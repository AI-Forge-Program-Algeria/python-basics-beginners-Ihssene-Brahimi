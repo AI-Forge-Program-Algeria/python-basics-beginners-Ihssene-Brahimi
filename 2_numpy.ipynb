{
 "cells": [
  {
   "cell_type": "markdown",
   "metadata": {
    "id": "wKh82yWqk1bW"
   },
   "source": [
    "\n",
    "# NumPy exercises\n"
   ]
  },
  {
   "cell_type": "code",
   "execution_count": null,
   "metadata": {
    "colab": {
     "base_uri": "https://localhost:8080/"
    },
    "executionInfo": {
     "elapsed": 343,
     "status": "ok",
     "timestamp": 1626541711677,
     "user": {
      "displayName": "ihssene brahimi",
      "photoUrl": "https://lh3.googleusercontent.com/a-/AOh14GgKpjSW5VySqduZaVP1JaBV6P-qJ_ay4tNRudKSJw=s64",
      "userId": "07263068965449987509"
     },
     "user_tz": -60
    },
    "id": "Dd9YjP0Pk1bY",
    "outputId": "fdf0ea35-b6ec-4dd3-c78f-c6eb336e442e"
   },
   "outputs": [
    {
     "name": "stdout",
     "output_type": "stream",
     "text": [
      "1.19.5\n"
     ]
    }
   ],
   "source": [
    "# Import the numpy package under the name np\n",
    "import numpy as np\n",
    "\n",
    "# Print the numpy version and the configuration\n",
    "print(np.__version__)"
   ]
  },
  {
   "cell_type": "markdown",
   "metadata": {
    "id": "3jSDwtmrk1bZ"
   },
   "source": [
    "\n",
    "\n",
    "## 1. Array creation"
   ]
  },
  {
   "cell_type": "markdown",
   "metadata": {
    "id": "xlUHKSLBk1ba"
   },
   "source": [
    "### Create a numpy array of size 10, filled with zeros."
   ]
  },
  {
   "cell_type": "code",
   "execution_count": null,
   "metadata": {
    "colab": {
     "base_uri": "https://localhost:8080/"
    },
    "executionInfo": {
     "elapsed": 355,
     "status": "ok",
     "timestamp": 1626541714571,
     "user": {
      "displayName": "ihssene brahimi",
      "photoUrl": "https://lh3.googleusercontent.com/a-/AOh14GgKpjSW5VySqduZaVP1JaBV6P-qJ_ay4tNRudKSJw=s64",
      "userId": "07263068965449987509"
     },
     "user_tz": -60
    },
    "id": "sB_Y_a3mk1bb",
    "outputId": "ed20fee9-a883-48af-e48e-5b54185d5569"
   },
   "outputs": [],
   "source": []
  },
  {
   "cell_type": "markdown",
   "metadata": {
    "id": "sUxi-VSXk1bb"
   },
   "source": [
    "\n",
    "\n",
    "### Create a numpy array with values ranging from 10 to 49"
   ]
  },
  {
   "cell_type": "code",
   "execution_count": null,
   "metadata": {
    "colab": {
     "background_save": true,
     "base_uri": "https://localhost:8080/"
    },
    "executionInfo": {
     "elapsed": 298,
     "status": "ok",
     "timestamp": 1626014366328,
     "user": {
      "displayName": "otmane Amel",
      "photoUrl": "",
      "userId": "11927100356549186655"
     },
     "user_tz": -60
    },
    "id": "VdYKLFStk1bc",
    "outputId": "7face06d-d4da-4468-850b-f6464a2a52f4"
   },
   "outputs": [],
   "source": []
  },
  {
   "cell_type": "markdown",
   "metadata": {
    "id": "3RE0VkWMk1bc"
   },
   "source": [
    "\n",
    "\n",
    "### Create a numpy matrix of 2*2 integers, filled with ones."
   ]
  },
  {
   "cell_type": "code",
   "execution_count": null,
   "metadata": {
    "id": "pgM8-AzEk1bd"
   },
   "outputs": [],
   "source": []
  },
  {
   "cell_type": "markdown",
   "metadata": {
    "id": "1Z1JM5Gpk1bd"
   },
   "source": [
    "\n",
    "\n",
    "### Create a numpy matrix of 3*2 float numbers, filled with ones."
   ]
  },
  {
   "cell_type": "code",
   "execution_count": null,
   "metadata": {
    "colab": {
     "base_uri": "https://localhost:8080/"
    },
    "executionInfo": {
     "elapsed": 290,
     "status": "ok",
     "timestamp": 1626014491964,
     "user": {
      "displayName": "otmane Amel",
      "photoUrl": "",
      "userId": "11927100356549186655"
     },
     "user_tz": -60
    },
    "id": "bs0cXCjok1be",
    "outputId": "78513fa4-0292-4249-8eef-722a8f480deb"
   },
   "outputs": [],
   "source": []
  },
  {
   "cell_type": "markdown",
   "metadata": {
    "id": "nGqsBs8Hk1be"
   },
   "source": [
    "\n",
    "\n",
    "### Given the X numpy array, create a new numpy array with the same shape and type as X, filled with ones."
   ]
  },
  {
   "cell_type": "code",
   "execution_count": null,
   "metadata": {
    "colab": {
     "base_uri": "https://localhost:8080/"
    },
    "executionInfo": {
     "elapsed": 298,
     "status": "ok",
     "timestamp": 1626014644305,
     "user": {
      "displayName": "otmane Amel",
      "photoUrl": "",
      "userId": "11927100356549186655"
     },
     "user_tz": -60
    },
    "id": "52ukwAnek1be",
    "outputId": "d57f0697-e1d3-46b5-cfbe-8d8669848b46"
   },
   "outputs": [],
   "source": []
  },
  {
   "cell_type": "markdown",
   "metadata": {
    "id": "4szXgcF7k1be"
   },
   "source": [
    "\n",
    "\n",
    "### Given the X numpy matrix, create a new numpy matrix with the same shape and type as X, filled with zeros."
   ]
  },
  {
   "cell_type": "code",
   "execution_count": null,
   "metadata": {
    "colab": {
     "base_uri": "https://localhost:8080/"
    },
    "executionInfo": {
     "elapsed": 273,
     "status": "ok",
     "timestamp": 1626014741207,
     "user": {
      "displayName": "otmane Amel",
      "photoUrl": "",
      "userId": "11927100356549186655"
     },
     "user_tz": -60
    },
    "id": "t-Hnee3Yk1bf",
    "outputId": "c8f3d203-1014-4817-b7cc-f24a2bff0308"
   },
   "outputs": [],
   "source": []
  },
  {
   "cell_type": "markdown",
   "metadata": {
    "id": "8sBT3vlAk1bf"
   },
   "source": [
    "\n",
    "\n",
    "### Create a numpy matrix of 4*4 integers, filled with fives."
   ]
  },
  {
   "cell_type": "code",
   "execution_count": null,
   "metadata": {
    "colab": {
     "base_uri": "https://localhost:8080/"
    },
    "executionInfo": {
     "elapsed": 302,
     "status": "ok",
     "timestamp": 1626014807917,
     "user": {
      "displayName": "otmane Amel",
      "photoUrl": "",
      "userId": "11927100356549186655"
     },
     "user_tz": -60
    },
    "id": "5Z4W1guak1bf",
    "outputId": "2d959432-8f04-4114-9ee5-08dfc5b4c87f"
   },
   "outputs": [],
   "source": []
  },
  {
   "cell_type": "markdown",
   "metadata": {
    "id": "2SKatx1Tk1bg"
   },
   "source": [
    "\n",
    "\n",
    "### Given the X numpy matrix, create a new numpy matrix with the same shape and type as X, filled with sevens."
   ]
  },
  {
   "cell_type": "code",
   "execution_count": null,
   "metadata": {
    "id": "jgLROe9ik1bg"
   },
   "outputs": [],
   "source": []
  },
  {
   "cell_type": "markdown",
   "metadata": {
    "id": "kjHEuexrk1bh"
   },
   "source": [
    "\n",
    "\n",
    "### Create a 3*3 identity numpy matrix with ones on the diagonal and zeros elsewhere."
   ]
  },
  {
   "cell_type": "code",
   "execution_count": null,
   "metadata": {
    "colab": {
     "base_uri": "https://localhost:8080/"
    },
    "executionInfo": {
     "elapsed": 295,
     "status": "ok",
     "timestamp": 1626014869328,
     "user": {
      "displayName": "otmane Amel",
      "photoUrl": "",
      "userId": "11927100356549186655"
     },
     "user_tz": -60
    },
    "id": "H_O0_UnZk1bh",
    "outputId": "f946a892-365b-4556-80b6-a455b79ad43d"
   },
   "outputs": [],
   "source": []
  },
  {
   "cell_type": "markdown",
   "metadata": {
    "id": "p79hNwxTk1bi"
   },
   "source": [
    "\n",
    "\n",
    "### Create a numpy array, filled with 3 random integer values between 1 and 10."
   ]
  },
  {
   "cell_type": "code",
   "execution_count": null,
   "metadata": {
    "id": "46pM7Dxdk1bi"
   },
   "outputs": [],
   "source": []
  },
  {
   "cell_type": "markdown",
   "metadata": {
    "id": "rkDhAmvWk1bi"
   },
   "source": [
    "\n",
    "\n",
    "### Create a 3\\*3\\*3 numpy matrix, filled with random float values."
   ]
  },
  {
   "cell_type": "code",
   "execution_count": null,
   "metadata": {
    "colab": {
     "base_uri": "https://localhost:8080/"
    },
    "executionInfo": {
     "elapsed": 326,
     "status": "ok",
     "timestamp": 1626015198959,
     "user": {
      "displayName": "otmane Amel",
      "photoUrl": "",
      "userId": "11927100356549186655"
     },
     "user_tz": -60
    },
    "id": "bCKAQJlqk1bj",
    "outputId": "38bb55b1-06cb-4dd0-f198-72a38d6e4aa3"
   },
   "outputs": [],
   "source": []
  },
  {
   "cell_type": "markdown",
   "metadata": {
    "id": "3FH3hAI4k1bj"
   },
   "source": [
    "\n",
    "\n",
    "### Given the X python list convert it to an Y numpy array"
   ]
  },
  {
   "cell_type": "code",
   "execution_count": null,
   "metadata": {
    "colab": {
     "base_uri": "https://localhost:8080/"
    },
    "executionInfo": {
     "elapsed": 274,
     "status": "ok",
     "timestamp": 1626015238304,
     "user": {
      "displayName": "otmane Amel",
      "photoUrl": "",
      "userId": "11927100356549186655"
     },
     "user_tz": -60
    },
    "id": "TIuC_mG2k1bk",
    "outputId": "6ee513a5-443e-41f4-b04a-7640ecebe770"
   },
   "outputs": [],
   "source": []
  },
  {
   "cell_type": "markdown",
   "metadata": {
    "id": "8Wr8bOXVk1bk"
   },
   "source": [
    "\n",
    "\n",
    "### Given the X numpy array, make a copy and store it on Y."
   ]
  },
  {
   "cell_type": "code",
   "execution_count": null,
   "metadata": {
    "colab": {
     "base_uri": "https://localhost:8080/"
    },
    "executionInfo": {
     "elapsed": 352,
     "status": "ok",
     "timestamp": 1626015312105,
     "user": {
      "displayName": "otmane Amel",
      "photoUrl": "",
      "userId": "11927100356549186655"
     },
     "user_tz": -60
    },
    "id": "Ourf6fwmk1bl",
    "outputId": "bc19af6d-6420-457b-cbd9-89d4c14f401b"
   },
   "outputs": [],
   "source": []
  },
  {
   "cell_type": "markdown",
   "metadata": {
    "id": "TG4b7NElk1bl"
   },
   "source": [
    "\n",
    "\n",
    "### Create a numpy array with numbers from 1 to 10"
   ]
  },
  {
   "cell_type": "code",
   "execution_count": null,
   "metadata": {
    "colab": {
     "base_uri": "https://localhost:8080/"
    },
    "executionInfo": {
     "elapsed": 259,
     "status": "ok",
     "timestamp": 1626015349520,
     "user": {
      "displayName": "otmane Amel",
      "photoUrl": "",
      "userId": "11927100356549186655"
     },
     "user_tz": -60
    },
    "id": "MS0btd0-k1bl",
    "outputId": "38697120-50c2-45b1-cf1c-30cbd957772e"
   },
   "outputs": [],
   "source": []
  },
  {
   "cell_type": "markdown",
   "metadata": {
    "id": "hzEnxajKk1bl"
   },
   "source": [
    "\n",
    "\n",
    "### Create a numpy array with the odd numbers between 1 to 10"
   ]
  },
  {
   "cell_type": "code",
   "execution_count": null,
   "metadata": {
    "colab": {
     "base_uri": "https://localhost:8080/"
    },
    "executionInfo": {
     "elapsed": 268,
     "status": "ok",
     "timestamp": 1626015381626,
     "user": {
      "displayName": "otmane Amel",
      "photoUrl": "",
      "userId": "11927100356549186655"
     },
     "user_tz": -60
    },
    "id": "vBKmGfwak1bm",
    "outputId": "7d0725b7-4eb8-42a3-e20d-4556dadc1b29"
   },
   "outputs": [],
   "source": []
  },
  {
   "cell_type": "markdown",
   "metadata": {
    "id": "elURdpqUk1bm"
   },
   "source": [
    "\n",
    "\n",
    "### Create a 3*3 numpy matrix, filled with values ranging from 0 to 8"
   ]
  },
  {
   "cell_type": "code",
   "execution_count": null,
   "metadata": {
    "colab": {
     "base_uri": "https://localhost:8080/"
    },
    "executionInfo": {
     "elapsed": 277,
     "status": "ok",
     "timestamp": 1626015429719,
     "user": {
      "displayName": "otmane Amel",
      "photoUrl": "",
      "userId": "11927100356549186655"
     },
     "user_tz": -60
    },
    "id": "YuNzwhlvk1bm",
    "outputId": "bce55fa9-65f1-42ff-80bc-e43c2bb2ab10"
   },
   "outputs": [],
   "source": []
  },
  {
   "cell_type": "markdown",
   "metadata": {
    "id": "YxnGEay1k1bm"
   },
   "source": [
    "\n",
    "\n",
    "### Show the memory size of the given Z numpy matrix"
   ]
  },
  {
   "cell_type": "code",
   "execution_count": null,
   "metadata": {
    "colab": {
     "base_uri": "https://localhost:8080/"
    },
    "executionInfo": {
     "elapsed": 394,
     "status": "ok",
     "timestamp": 1626015561390,
     "user": {
      "displayName": "otmane Amel",
      "photoUrl": "",
      "userId": "11927100356549186655"
     },
     "user_tz": -60
    },
    "id": "F5cuypVlk1bm",
    "outputId": "fcf563f5-d4d4-4515-d4f6-f8724f10d870"
   },
   "outputs": [],
   "source": []
  },
  {
   "cell_type": "markdown",
   "metadata": {
    "id": "cg5YrOIck1bn"
   },
   "source": [
    "\n",
    "## 2. Array indexation\n"
   ]
  },
  {
   "cell_type": "markdown",
   "metadata": {
    "id": "D2_wo0rIk1bn"
   },
   "source": [
    "### Given the X numpy array, show it's first element"
   ]
  },
  {
   "cell_type": "code",
   "execution_count": null,
   "metadata": {
    "colab": {
     "base_uri": "https://localhost:8080/"
    },
    "executionInfo": {
     "elapsed": 723,
     "status": "ok",
     "timestamp": 1626015596387,
     "user": {
      "displayName": "otmane Amel",
      "photoUrl": "",
      "userId": "11927100356549186655"
     },
     "user_tz": -60
    },
    "id": "uuq6zuwZk1bn",
    "outputId": "99175e80-ec1c-47ea-8b9b-9f5e4f31f0dc"
   },
   "outputs": [],
   "source": []
  },
  {
   "cell_type": "markdown",
   "metadata": {
    "id": "3hOVuA4Zk1bn"
   },
   "source": [
    "\n",
    "\n",
    "### Given the X numpy array, show it's last element"
   ]
  },
  {
   "cell_type": "code",
   "execution_count": null,
   "metadata": {
    "colab": {
     "base_uri": "https://localhost:8080/"
    },
    "executionInfo": {
     "elapsed": 317,
     "status": "ok",
     "timestamp": 1626015604909,
     "user": {
      "displayName": "otmane Amel",
      "photoUrl": "",
      "userId": "11927100356549186655"
     },
     "user_tz": -60
    },
    "id": "dGJwYYdBk1bn",
    "outputId": "4836f77f-2aad-4116-9c0a-a2750fe3a700"
   },
   "outputs": [],
   "source": []
  },
  {
   "cell_type": "markdown",
   "metadata": {
    "id": "zgEiJ9otk1bo"
   },
   "source": [
    "\n",
    "\n",
    "### Given the X numpy array, show it's first three elements"
   ]
  },
  {
   "cell_type": "code",
   "execution_count": null,
   "metadata": {
    "colab": {
     "base_uri": "https://localhost:8080/"
    },
    "executionInfo": {
     "elapsed": 357,
     "status": "ok",
     "timestamp": 1626015637088,
     "user": {
      "displayName": "otmane Amel",
      "photoUrl": "",
      "userId": "11927100356549186655"
     },
     "user_tz": -60
    },
    "id": "RnoJP1Jok1bo",
    "outputId": "71a59bf6-97dc-48ae-de03-18642a9f20b3"
   },
   "outputs": [],
   "source": []
  },
  {
   "cell_type": "markdown",
   "metadata": {
    "id": "AVC35VpLk1bo"
   },
   "source": [
    "\n",
    "\n",
    "### Create a numpy array with numbers from 1 to 10, in descending order."
   ]
  },
  {
   "cell_type": "code",
   "execution_count": null,
   "metadata": {
    "colab": {
     "base_uri": "https://localhost:8080/"
    },
    "executionInfo": {
     "elapsed": 406,
     "status": "ok",
     "timestamp": 1626015669327,
     "user": {
      "displayName": "otmane Amel",
      "photoUrl": "",
      "userId": "11927100356549186655"
     },
     "user_tz": -60
    },
    "id": "nLtS93Mpk1bo",
    "outputId": "7511c17b-c439-43d2-91ff-1e4e6c01867c"
   },
   "outputs": [],
   "source": []
  },
  {
   "cell_type": "markdown",
   "metadata": {
    "id": "71oGZk_dk1bo"
   },
   "source": [
    "\n",
    "\n",
    "### Given the X numpy array, show all middle elements"
   ]
  },
  {
   "cell_type": "code",
   "execution_count": null,
   "metadata": {
    "colab": {
     "base_uri": "https://localhost:8080/"
    },
    "executionInfo": {
     "elapsed": 247,
     "status": "ok",
     "timestamp": 1626553739730,
     "user": {
      "displayName": "ihssene brahimi",
      "photoUrl": "https://lh3.googleusercontent.com/a-/AOh14GgKpjSW5VySqduZaVP1JaBV6P-qJ_ay4tNRudKSJw=s64",
      "userId": "07263068965449987509"
     },
     "user_tz": -60
    },
    "id": "wd9H-femk1bo",
    "outputId": "69a00ef4-cdbb-4423-9c1f-37d836ff3a6e"
   },
   "outputs": [],
   "source": []
  },
  {
   "cell_type": "markdown",
   "metadata": {
    "id": "DlFugpGxk1bp"
   },
   "source": [
    "\n",
    "### Given the X numpy array, show the elements in reverse position"
   ]
  },
  {
   "cell_type": "code",
   "execution_count": null,
   "metadata": {
    "colab": {
     "base_uri": "https://localhost:8080/"
    },
    "executionInfo": {
     "elapsed": 416,
     "status": "ok",
     "timestamp": 1626015851684,
     "user": {
      "displayName": "otmane Amel",
      "photoUrl": "",
      "userId": "11927100356549186655"
     },
     "user_tz": -60
    },
    "id": "pIBNaclPk1bp",
    "outputId": "2c34af80-1304-443e-addc-23c453457513"
   },
   "outputs": [],
   "source": []
  },
  {
   "cell_type": "markdown",
   "metadata": {
    "id": "PaIEqBNAk1bp"
   },
   "source": [
    "\n",
    "\n",
    "### Given the X numpy array, show the elements in an odd position"
   ]
  },
  {
   "cell_type": "code",
   "execution_count": null,
   "metadata": {
    "colab": {
     "base_uri": "https://localhost:8080/"
    },
    "executionInfo": {
     "elapsed": 305,
     "status": "ok",
     "timestamp": 1626015891220,
     "user": {
      "displayName": "otmane Amel",
      "photoUrl": "",
      "userId": "11927100356549186655"
     },
     "user_tz": -60
    },
    "id": "ImU0cOc-k1bp",
    "outputId": "bc8bf16c-4fff-49b1-cc72-f4de6fd1b3ca"
   },
   "outputs": [],
   "source": []
  },
  {
   "cell_type": "markdown",
   "metadata": {
    "id": "fs7VdbaHk1bp"
   },
   "source": [
    "\n",
    "\n",
    "### Given the X numpy matrix, show the first row elements"
   ]
  },
  {
   "cell_type": "code",
   "execution_count": null,
   "metadata": {
    "colab": {
     "base_uri": "https://localhost:8080/"
    },
    "executionInfo": {
     "elapsed": 254,
     "status": "ok",
     "timestamp": 1626553985445,
     "user": {
      "displayName": "ihssene brahimi",
      "photoUrl": "https://lh3.googleusercontent.com/a-/AOh14GgKpjSW5VySqduZaVP1JaBV6P-qJ_ay4tNRudKSJw=s64",
      "userId": "07263068965449987509"
     },
     "user_tz": -60
    },
    "id": "zrGU4c9Vk1bq",
    "outputId": "c0ede8af-f092-4e24-8579-b143c3e0c049"
   },
   "outputs": [],
   "source": []
  },
  {
   "cell_type": "markdown",
   "metadata": {
    "id": "Z5kfKxuhk1bq"
   },
   "source": [
    "\n",
    "\n",
    "### Given the X numpy matrix, show the last row elements"
   ]
  },
  {
   "cell_type": "code",
   "execution_count": null,
   "metadata": {
    "colab": {
     "base_uri": "https://localhost:8080/"
    },
    "executionInfo": {
     "elapsed": 318,
     "status": "ok",
     "timestamp": 1626015996796,
     "user": {
      "displayName": "otmane Amel",
      "photoUrl": "",
      "userId": "11927100356549186655"
     },
     "user_tz": -60
    },
    "id": "iUwRsi-ck1bq",
    "outputId": "ba09a9cb-ac75-47e7-fb1d-b81602e6b65a"
   },
   "outputs": [],
   "source": []
  },
  {
   "cell_type": "markdown",
   "metadata": {
    "id": "ArqY7bIWk1bq"
   },
   "source": [
    "\n",
    "\n",
    "### Given the X numpy matrix, show the first element on first row"
   ]
  },
  {
   "cell_type": "code",
   "execution_count": null,
   "metadata": {
    "colab": {
     "base_uri": "https://localhost:8080/"
    },
    "executionInfo": {
     "elapsed": 295,
     "status": "ok",
     "timestamp": 1626016137536,
     "user": {
      "displayName": "otmane Amel",
      "photoUrl": "",
      "userId": "11927100356549186655"
     },
     "user_tz": -60
    },
    "id": "Tz3nWPZtk1bq",
    "outputId": "25b5e969-8bae-42f6-86ae-334ba16c7de7"
   },
   "outputs": [],
   "source": []
  },
  {
   "cell_type": "markdown",
   "metadata": {
    "id": "vCQS5JwDk1br"
   },
   "source": [
    "\n",
    "\n",
    "### Given the X numpy matrix, show the last element on last row"
   ]
  },
  {
   "cell_type": "code",
   "execution_count": null,
   "metadata": {
    "colab": {
     "base_uri": "https://localhost:8080/"
    },
    "executionInfo": {
     "elapsed": 514,
     "status": "ok",
     "timestamp": 1626016153235,
     "user": {
      "displayName": "otmane Amel",
      "photoUrl": "",
      "userId": "11927100356549186655"
     },
     "user_tz": -60
    },
    "id": "V60I1ZL3k1br",
    "outputId": "e5aabe8a-a8b0-4927-ccbb-6852dc97e118"
   },
   "outputs": [],
   "source": []
  },
  {
   "cell_type": "markdown",
   "metadata": {
    "id": "eXhnrZ8yk1br"
   },
   "source": [
    "\n",
    "\n",
    "### Given the X numpy matrix, show the middle row elements"
   ]
  },
  {
   "cell_type": "code",
   "execution_count": null,
   "metadata": {
    "colab": {
     "base_uri": "https://localhost:8080/"
    },
    "executionInfo": {
     "elapsed": 273,
     "status": "ok",
     "timestamp": 1626016469411,
     "user": {
      "displayName": "otmane Amel",
      "photoUrl": "",
      "userId": "11927100356549186655"
     },
     "user_tz": -60
    },
    "id": "hqWfJRnek1br",
    "outputId": "1b0459b0-04db-448c-bf06-c9d81aac0a82"
   },
   "outputs": [],
   "source": []
  },
  {
   "cell_type": "markdown",
   "metadata": {
    "id": "8X-NZsY3k1br"
   },
   "source": [
    "\n",
    "\n",
    "### Given the X numpy matrix, show the first two elements on the first two rows"
   ]
  },
  {
   "cell_type": "code",
   "execution_count": null,
   "metadata": {
    "colab": {
     "base_uri": "https://localhost:8080/"
    },
    "executionInfo": {
     "elapsed": 262,
     "status": "ok",
     "timestamp": 1626016591989,
     "user": {
      "displayName": "otmane Amel",
      "photoUrl": "",
      "userId": "11927100356549186655"
     },
     "user_tz": -60
    },
    "id": "asC5lsEEk1br",
    "outputId": "57d3b42d-5533-4e1a-ce91-8d2fc57c1a75"
   },
   "outputs": [],
   "source": []
  },
  {
   "cell_type": "markdown",
   "metadata": {
    "id": "iNfGFL5Xk1bs"
   },
   "source": [
    "\n",
    "\n",
    "### Given the X numpy matrix, show the last two elements on the last two rows"
   ]
  },
  {
   "cell_type": "code",
   "execution_count": null,
   "metadata": {
    "colab": {
     "base_uri": "https://localhost:8080/"
    },
    "executionInfo": {
     "elapsed": 284,
     "status": "ok",
     "timestamp": 1626016732944,
     "user": {
      "displayName": "otmane Amel",
      "photoUrl": "",
      "userId": "11927100356549186655"
     },
     "user_tz": -60
    },
    "id": "cXH-QXd_k1bs",
    "outputId": "406911fc-7f09-44ce-8258-867669691732"
   },
   "outputs": [],
   "source": []
  },
  {
   "cell_type": "markdown",
   "metadata": {
    "id": "3SSXlGelk1bs"
   },
   "source": [
    "\n",
    "## 3. Array manipulation\n"
   ]
  },
  {
   "cell_type": "markdown",
   "metadata": {
    "id": "-Fplm1mCk1bs"
   },
   "source": [
    "### Convert the given integer numpy array to float"
   ]
  },
  {
   "cell_type": "code",
   "execution_count": null,
   "metadata": {
    "colab": {
     "base_uri": "https://localhost:8080/"
    },
    "executionInfo": {
     "elapsed": 283,
     "status": "ok",
     "timestamp": 1626016759872,
     "user": {
      "displayName": "otmane Amel",
      "photoUrl": "",
      "userId": "11927100356549186655"
     },
     "user_tz": -60
    },
    "id": "e61KdphRk1bs",
    "outputId": "434dfc95-bad4-493a-d97c-9e18793f98a3"
   },
   "outputs": [],
   "source": []
  },
  {
   "cell_type": "markdown",
   "metadata": {
    "id": "zDygURxYk1bt"
   },
   "source": [
    "\n",
    "\n",
    "### Reverse the given numpy array (first element becomes last)"
   ]
  },
  {
   "cell_type": "code",
   "execution_count": null,
   "metadata": {
    "colab": {
     "base_uri": "https://localhost:8080/"
    },
    "executionInfo": {
     "elapsed": 274,
     "status": "ok",
     "timestamp": 1626016792840,
     "user": {
      "displayName": "otmane Amel",
      "photoUrl": "",
      "userId": "11927100356549186655"
     },
     "user_tz": -60
    },
    "id": "jRWzhI_kk1bt",
    "outputId": "b451fd5c-b9a8-41f2-f730-074397879f0c"
   },
   "outputs": [],
   "source": []
  },
  {
   "cell_type": "markdown",
   "metadata": {
    "id": "nMZdCHk7k1bt"
   },
   "source": [
    "\n",
    "\n",
    "### Order (sort) the given numpy array"
   ]
  },
  {
   "cell_type": "code",
   "execution_count": null,
   "metadata": {
    "colab": {
     "base_uri": "https://localhost:8080/"
    },
    "executionInfo": {
     "elapsed": 327,
     "status": "ok",
     "timestamp": 1626017278548,
     "user": {
      "displayName": "otmane Amel",
      "photoUrl": "",
      "userId": "11927100356549186655"
     },
     "user_tz": -60
    },
    "id": "6Cdp5ppok1bt",
    "outputId": "6b6c803b-d18b-4d27-dd3d-4f19f3b07ab6"
   },
   "outputs": [],
   "source": []
  },
  {
   "cell_type": "markdown",
   "metadata": {
    "id": "NWoJTjaIk1bt"
   },
   "source": [
    "\n",
    "\n",
    "### Given the X numpy array, set the fifth element equal to 1"
   ]
  },
  {
   "cell_type": "code",
   "execution_count": null,
   "metadata": {
    "colab": {
     "base_uri": "https://localhost:8080/"
    },
    "executionInfo": {
     "elapsed": 6,
     "status": "ok",
     "timestamp": 1626017287343,
     "user": {
      "displayName": "otmane Amel",
      "photoUrl": "",
      "userId": "11927100356549186655"
     },
     "user_tz": -60
    },
    "id": "41OI8ERQk1bt",
    "outputId": "185ce645-e1ae-4fa5-cc85-7ba94499b5a6"
   },
   "outputs": [],
   "source": []
  },
  {
   "cell_type": "markdown",
   "metadata": {
    "id": "Z1d4Np6Ik1bu"
   },
   "source": [
    "\n",
    "\n",
    "### Given the X numpy array, change the 50 with a 40"
   ]
  },
  {
   "cell_type": "code",
   "execution_count": null,
   "metadata": {
    "id": "v1oQ6RxAk1bu"
   },
   "outputs": [],
   "source": []
  },
  {
   "cell_type": "markdown",
   "metadata": {
    "id": "l4lhrseCk1bu"
   },
   "source": [
    "\n",
    "### Given the X numpy matrix, change the last row with all 1"
   ]
  },
  {
   "cell_type": "code",
   "execution_count": null,
   "metadata": {
    "colab": {
     "base_uri": "https://localhost:8080/"
    },
    "executionInfo": {
     "elapsed": 277,
     "status": "ok",
     "timestamp": 1626017470759,
     "user": {
      "displayName": "otmane Amel",
      "photoUrl": "",
      "userId": "11927100356549186655"
     },
     "user_tz": -60
    },
    "id": "fzWTFwIok1bu",
    "outputId": "549d704e-fd4c-44a9-c245-e5530a1dc597"
   },
   "outputs": [],
   "source": []
  },
  {
   "cell_type": "markdown",
   "metadata": {
    "id": "uOD12PQNk1bu"
   },
   "source": [
    "\n",
    "### Given the X numpy matrix, change the last item on the last row with a 0"
   ]
  },
  {
   "cell_type": "code",
   "execution_count": null,
   "metadata": {
    "colab": {
     "base_uri": "https://localhost:8080/"
    },
    "executionInfo": {
     "elapsed": 398,
     "status": "ok",
     "timestamp": 1626017493386,
     "user": {
      "displayName": "otmane Amel",
      "photoUrl": "",
      "userId": "11927100356549186655"
     },
     "user_tz": -60
    },
    "id": "Vk0j1Ugbk1bv",
    "outputId": "e5a461df-05cb-47c3-c17b-4d6d7fd0fc7c"
   },
   "outputs": [],
   "source": []
  },
  {
   "cell_type": "markdown",
   "metadata": {
    "id": "mI8XZfGQk1bv"
   },
   "source": [
    "\n",
    "### Given the X numpy matrix, add 5 to every element"
   ]
  },
  {
   "cell_type": "code",
   "execution_count": null,
   "metadata": {
    "colab": {
     "base_uri": "https://localhost:8080/"
    },
    "executionInfo": {
     "elapsed": 310,
     "status": "ok",
     "timestamp": 1626017523220,
     "user": {
      "displayName": "otmane Amel",
      "photoUrl": "",
      "userId": "11927100356549186655"
     },
     "user_tz": -60
    },
    "id": "mkDArqQck1bv",
    "outputId": "58b43cfa-7c55-4f76-c779-21980cc6c011"
   },
   "outputs": [],
   "source": []
  },
  {
   "cell_type": "markdown",
   "metadata": {
    "id": "nGmSB9Opk1bv"
   },
   "source": [
    "\n",
    "## 4. Boolean arrays _(also called masks)_\n"
   ]
  },
  {
   "cell_type": "markdown",
   "metadata": {
    "id": "pf0Cxu69k1bw"
   },
   "source": [
    "### Given the X numpy array, make a mask showing negative elements"
   ]
  },
  {
   "cell_type": "code",
   "execution_count": null,
   "metadata": {
    "colab": {
     "base_uri": "https://localhost:8080/"
    },
    "executionInfo": {
     "elapsed": 338,
     "status": "ok",
     "timestamp": 1626018284738,
     "user": {
      "displayName": "otmane Amel",
      "photoUrl": "",
      "userId": "11927100356549186655"
     },
     "user_tz": -60
    },
    "id": "wFEzNwCOk1bw",
    "outputId": "bb0f5400-fd03-4c42-b658-46f5128dc7c7"
   },
   "outputs": [],
   "source": []
  },
  {
   "cell_type": "markdown",
   "metadata": {
    "id": "N_cjREwpk1bw"
   },
   "source": [
    "\n",
    "### Given the X numpy array, get the negative elements"
   ]
  },
  {
   "cell_type": "code",
   "execution_count": null,
   "metadata": {
    "colab": {
     "base_uri": "https://localhost:8080/"
    },
    "executionInfo": {
     "elapsed": 303,
     "status": "ok",
     "timestamp": 1626018292143,
     "user": {
      "displayName": "otmane Amel",
      "photoUrl": "",
      "userId": "11927100356549186655"
     },
     "user_tz": -60
    },
    "id": "g39Fs2rGk1bx",
    "outputId": "ec0e90c9-4e03-4e13-9db8-3293e15e325c"
   },
   "outputs": [],
   "source": []
  },
  {
   "cell_type": "markdown",
   "metadata": {
    "id": "atRiTG9Pk1bx"
   },
   "source": [
    "\n",
    "### Given the X numpy array, get numbers higher than 5"
   ]
  },
  {
   "cell_type": "code",
   "execution_count": null,
   "metadata": {
    "colab": {
     "base_uri": "https://localhost:8080/"
    },
    "executionInfo": {
     "elapsed": 273,
     "status": "ok",
     "timestamp": 1626018306384,
     "user": {
      "displayName": "otmane Amel",
      "photoUrl": "",
      "userId": "11927100356549186655"
     },
     "user_tz": -60
    },
    "id": "aDka97pMk1bx",
    "outputId": "09edb870-b7f4-4924-f2f3-f3f4aead6999"
   },
   "outputs": [],
   "source": []
  },
  {
   "cell_type": "markdown",
   "metadata": {
    "id": "FTqdKze-k1bx"
   },
   "source": [
    "\n",
    "### Given the X numpy array, get numbers higher than the elements mean"
   ]
  },
  {
   "cell_type": "code",
   "execution_count": null,
   "metadata": {
    "colab": {
     "base_uri": "https://localhost:8080/"
    },
    "executionInfo": {
     "elapsed": 264,
     "status": "ok",
     "timestamp": 1626018339705,
     "user": {
      "displayName": "otmane Amel",
      "photoUrl": "",
      "userId": "11927100356549186655"
     },
     "user_tz": -60
    },
    "id": "eCDQMqEqk1by",
    "outputId": "481a5379-6744-4ed5-9d75-546495e4202b"
   },
   "outputs": [],
   "source": []
  },
  {
   "cell_type": "markdown",
   "metadata": {
    "id": "nEAoBzWsk1by"
   },
   "source": [
    "\n",
    "### Given the X numpy array, get numbers equal to 2 or 10"
   ]
  },
  {
   "cell_type": "code",
   "execution_count": null,
   "metadata": {
    "colab": {
     "base_uri": "https://localhost:8080/"
    },
    "executionInfo": {
     "elapsed": 343,
     "status": "ok",
     "timestamp": 1626018441664,
     "user": {
      "displayName": "otmane Amel",
      "photoUrl": "",
      "userId": "11927100356549186655"
     },
     "user_tz": -60
    },
    "id": "pgGPAglmk1by",
    "outputId": "1a061e01-fea0-4ec5-bc95-876c62944b08"
   },
   "outputs": [],
   "source": []
  },
  {
   "cell_type": "markdown",
   "metadata": {
    "id": "k_Wf4IgQk1by"
   },
   "source": [
    "\n",
    "## 5. Logic functions\n"
   ]
  },
  {
   "cell_type": "markdown",
   "metadata": {
    "id": "OcJA-3jjk1by"
   },
   "source": [
    "### Given the X numpy array, return True if none of its elements is zero"
   ]
  },
  {
   "cell_type": "code",
   "execution_count": null,
   "metadata": {
    "colab": {
     "base_uri": "https://localhost:8080/"
    },
    "executionInfo": {
     "elapsed": 14,
     "status": "ok",
     "timestamp": 1626018590545,
     "user": {
      "displayName": "otmane Amel",
      "photoUrl": "",
      "userId": "11927100356549186655"
     },
     "user_tz": -60
    },
    "id": "ENBvKj23k1bz",
    "outputId": "3b7b521b-024f-4738-f0a2-a5271544930b"
   },
   "outputs": [],
   "source": []
  },
  {
   "cell_type": "markdown",
   "metadata": {
    "id": "gOBV_inkk1bz"
   },
   "source": [
    "\n",
    "### Given the X numpy array, return True if any of its elements is zero"
   ]
  },
  {
   "cell_type": "code",
   "execution_count": null,
   "metadata": {
    "colab": {
     "base_uri": "https://localhost:8080/"
    },
    "executionInfo": {
     "elapsed": 312,
     "status": "ok",
     "timestamp": 1626018593541,
     "user": {
      "displayName": "otmane Amel",
      "photoUrl": "",
      "userId": "11927100356549186655"
     },
     "user_tz": -60
    },
    "id": "bNHV8lRwk1bz",
    "outputId": "83470fa3-3d68-4238-f31d-ddd46c51a020"
   },
   "outputs": [],
   "source": []
  },
  {
   "cell_type": "markdown",
   "metadata": {
    "id": "yG9lKG84k1bz"
   },
   "source": [
    "\n",
    "## 6. Summary statistics"
   ]
  },
  {
   "cell_type": "markdown",
   "metadata": {
    "id": "SM6Lu1Agk1bz"
   },
   "source": [
    "### Given the X numpy array, show the sum of its elements"
   ]
  },
  {
   "cell_type": "code",
   "execution_count": null,
   "metadata": {
    "colab": {
     "base_uri": "https://localhost:8080/"
    },
    "executionInfo": {
     "elapsed": 267,
     "status": "ok",
     "timestamp": 1626018608194,
     "user": {
      "displayName": "otmane Amel",
      "photoUrl": "",
      "userId": "11927100356549186655"
     },
     "user_tz": -60
    },
    "id": "3ZLTZ8klk1bz",
    "outputId": "37b8df70-9f65-4424-bdb2-8abbd35fcfdb"
   },
   "outputs": [],
   "source": []
  },
  {
   "cell_type": "markdown",
   "metadata": {
    "id": "30FS-T8ok1b0"
   },
   "source": [
    "\n",
    "### Given the X numpy array, show the mean value of its elements"
   ]
  },
  {
   "cell_type": "code",
   "execution_count": null,
   "metadata": {
    "colab": {
     "base_uri": "https://localhost:8080/"
    },
    "executionInfo": {
     "elapsed": 272,
     "status": "ok",
     "timestamp": 1626018621117,
     "user": {
      "displayName": "otmane Amel",
      "photoUrl": "",
      "userId": "11927100356549186655"
     },
     "user_tz": -60
    },
    "id": "AE2J8wIdk1b0",
    "outputId": "994ce4c9-f206-4eff-c349-795a47506f33"
   },
   "outputs": [],
   "source": []
  },
  {
   "cell_type": "markdown",
   "metadata": {
    "id": "mrqNsp-Bk1b0"
   },
   "source": [
    "\n",
    "### Given the X numpy matrix, show the sum of its columns"
   ]
  },
  {
   "cell_type": "code",
   "execution_count": null,
   "metadata": {
    "colab": {
     "base_uri": "https://localhost:8080/"
    },
    "executionInfo": {
     "elapsed": 333,
     "status": "ok",
     "timestamp": 1626018763394,
     "user": {
      "displayName": "otmane Amel",
      "photoUrl": "",
      "userId": "11927100356549186655"
     },
     "user_tz": -60
    },
    "id": "2EzRMhrwk1b0",
    "outputId": "5eca2a60-ee45-442d-8e6c-ae019d43d30a"
   },
   "outputs": [],
   "source": []
  },
  {
   "cell_type": "markdown",
   "metadata": {
    "id": "lhLoRNYdk1b0"
   },
   "source": [
    "\n",
    "### Given the X numpy matrix, show the mean value of its rows"
   ]
  },
  {
   "cell_type": "code",
   "execution_count": null,
   "metadata": {
    "colab": {
     "base_uri": "https://localhost:8080/"
    },
    "executionInfo": {
     "elapsed": 278,
     "status": "ok",
     "timestamp": 1626018805280,
     "user": {
      "displayName": "otmane Amel",
      "photoUrl": "",
      "userId": "11927100356549186655"
     },
     "user_tz": -60
    },
    "id": "Usco9YBJk1b1",
    "outputId": "3a7a10e8-fd0a-48b0-88e9-821a0baf57e0"
   },
   "outputs": [],
   "source": []
  },
  {
   "cell_type": "markdown",
   "metadata": {
    "id": "Bw2jjiMIk1b1"
   },
   "source": [
    "### Given the X numpy array, show the max value of its elements"
   ]
  },
  {
   "cell_type": "code",
   "execution_count": null,
   "metadata": {
    "colab": {
     "base_uri": "https://localhost:8080/",
     "height": 178
    },
    "executionInfo": {
     "elapsed": 19,
     "status": "error",
     "timestamp": 1626541158922,
     "user": {
      "displayName": "ihssene brahimi",
      "photoUrl": "https://lh3.googleusercontent.com/a-/AOh14GgKpjSW5VySqduZaVP1JaBV6P-qJ_ay4tNRudKSJw=s64",
      "userId": "07263068965449987509"
     },
     "user_tz": -60
    },
    "id": "cGQyLHEgk1b1",
    "outputId": "c8ecd4ee-49f3-4696-8075-2f68ed5e5156"
   },
   "outputs": [],
   "source": []
  }
 ],
 "metadata": {
  "colab": {
   "collapsed_sections": [
    "8sBT3vlAk1bf",
    "2SKatx1Tk1bg",
    "kjHEuexrk1bh",
    "p79hNwxTk1bi",
    "rkDhAmvWk1bi",
    "3FH3hAI4k1bj",
    "8Wr8bOXVk1bk",
    "TG4b7NElk1bl",
    "hzEnxajKk1bl",
    "elURdpqUk1bm",
    "YxnGEay1k1bm",
    "D2_wo0rIk1bn",
    "3hOVuA4Zk1bn",
    "zgEiJ9otk1bo",
    "AVC35VpLk1bo",
    "71oGZk_dk1bo",
    "DlFugpGxk1bp",
    "PaIEqBNAk1bp",
    "fs7VdbaHk1bp",
    "Z5kfKxuhk1bq",
    "ArqY7bIWk1bq",
    "vCQS5JwDk1br",
    "eXhnrZ8yk1br",
    "8X-NZsY3k1br",
    "iNfGFL5Xk1bs",
    "-Fplm1mCk1bs",
    "zDygURxYk1bt",
    "nMZdCHk7k1bt",
    "NWoJTjaIk1bt",
    "Z1d4Np6Ik1bu",
    "l4lhrseCk1bu",
    "uOD12PQNk1bu",
    "mI8XZfGQk1bv",
    "pf0Cxu69k1bw",
    "N_cjREwpk1bw",
    "atRiTG9Pk1bx",
    "FTqdKze-k1bx",
    "nEAoBzWsk1by",
    "OcJA-3jjk1by",
    "gOBV_inkk1bz",
    "SM6Lu1Agk1bz",
    "30FS-T8ok1b0",
    "mrqNsp-Bk1b0",
    "lhLoRNYdk1b0",
    "Bw2jjiMIk1b1"
   ],
   "name": "Copie de NumPy exercises.ipynb",
   "provenance": [
    {
     "file_id": "1Lb-7bfWWatzsIq2s7S75Aw8fm266TpWR",
     "timestamp": 1626541122095
    }
   ]
  },
  "kernelspec": {
   "display_name": "Python 3",
   "language": "python",
   "name": "python3"
  },
  "language_info": {
   "codemirror_mode": {
    "name": "ipython",
    "version": 3
   },
   "file_extension": ".py",
   "mimetype": "text/x-python",
   "name": "python",
   "nbconvert_exporter": "python",
   "pygments_lexer": "ipython3",
   "version": "3.7.0"
  },
  "toc": {
   "base_numbering": 1,
   "nav_menu": {},
   "number_sections": true,
   "sideBar": true,
   "skip_h1_title": false,
   "title_cell": "Table of Contents",
   "title_sidebar": "Contents",
   "toc_cell": false,
   "toc_position": {},
   "toc_section_display": true,
   "toc_window_display": false
  },
  "varInspector": {
   "cols": {
    "lenName": 16,
    "lenType": 16,
    "lenVar": 40
   },
   "kernels_config": {
    "python": {
     "delete_cmd_postfix": "",
     "delete_cmd_prefix": "del ",
     "library": "var_list.py",
     "varRefreshCmd": "print(var_dic_list())"
    },
    "r": {
     "delete_cmd_postfix": ") ",
     "delete_cmd_prefix": "rm(",
     "library": "var_list.r",
     "varRefreshCmd": "cat(var_dic_list()) "
    }
   },
   "types_to_exclude": [
    "module",
    "function",
    "builtin_function_or_method",
    "instance",
    "_Feature"
   ],
   "window_display": false
  }
 },
 "nbformat": 4,
 "nbformat_minor": 0
}
