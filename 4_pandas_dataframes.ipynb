{
 "cells": [
  {
   "cell_type": "markdown",
   "metadata": {
    "id": "qfo-jgKyEio-"
   },
   "source": [
    "\n",
    "# Pandas DataFrame exercises\n"
   ]
  },
  {
   "cell_type": "code",
   "execution_count": null,
   "metadata": {
    "colab": {
     "base_uri": "https://localhost:8080/"
    },
    "executionInfo": {
     "elapsed": 383,
     "status": "ok",
     "timestamp": 1626876418537,
     "user": {
      "displayName": "ihssene brahimi",
      "photoUrl": "https://lh3.googleusercontent.com/a-/AOh14GgKpjSW5VySqduZaVP1JaBV6P-qJ_ay4tNRudKSJw=s64",
      "userId": "07263068965449987509"
     },
     "user_tz": -60
    },
    "id": "I4_Zn4mUEipA",
    "outputId": "3ac27fae-0c0d-4b46-973c-46f951c5ce09"
   },
   "outputs": [],
   "source": [
    "# Import the numpy package under the name np\n",
    "\n",
    "\n",
    "# Import the pandas package under the name pd\n",
    "\n",
    "\n",
    "# Import the matplotlib package under the name plt\n",
    "\n",
    "%matplotlib inline\n",
    "\n",
    "# Print the pandas version and the configuration\n",
    "print(pd.__version__)"
   ]
  },
  {
   "cell_type": "markdown",
   "metadata": {
    "id": "REJvXs--EipB"
   },
   "source": [
    "\n",
    "## 1. DataFrame creation"
   ]
  },
  {
   "cell_type": "markdown",
   "metadata": {
    "id": "BBZ0TOvCEipC"
   },
   "source": [
    "### Create an empty pandas DataFrame\n"
   ]
  },
  {
   "cell_type": "code",
   "execution_count": null,
   "metadata": {
    "id": "0foLPtBCEipD"
   },
   "outputs": [],
   "source": []
  },
  {
   "cell_type": "markdown",
   "metadata": {
    "id": "Y4l6E-emEipE"
   },
   "source": [
    "\n",
    "\n",
    "### Create a `quran_df` pandas DataFrame with the given quran data of the first 9 Surat\n"
   ]
  },
  {
   "cell_type": "code",
   "execution_count": null,
   "metadata": {
    "executionInfo": {
     "elapsed": 342,
     "status": "ok",
     "timestamp": 1626876424971,
     "user": {
      "displayName": "ihssene brahimi",
      "photoUrl": "https://lh3.googleusercontent.com/a-/AOh14GgKpjSW5VySqduZaVP1JaBV6P-qJ_ay4tNRudKSJw=s64",
      "userId": "07263068965449987509"
     },
     "user_tz": -60
    },
    "id": "umpGbwB0EipE"
   },
   "outputs": [],
   "source": []
  },
  {
   "cell_type": "markdown",
   "metadata": {
    "id": "q0BMeAI_EipG"
   },
   "source": [
    "\n",
    "\n",
    "### Add column names to the `quran_df`\n",
    " "
   ]
  },
  {
   "cell_type": "code",
   "execution_count": null,
   "metadata": {
    "colab": {
     "base_uri": "https://localhost:8080/",
     "height": 639
    },
    "executionInfo": {
     "elapsed": 589,
     "status": "ok",
     "timestamp": 1626876431026,
     "user": {
      "displayName": "ihssene brahimi",
      "photoUrl": "https://lh3.googleusercontent.com/a-/AOh14GgKpjSW5VySqduZaVP1JaBV6P-qJ_ay4tNRudKSJw=s64",
      "userId": "07263068965449987509"
     },
     "user_tz": -60
    },
    "id": "Aj6ayntDEipG",
    "outputId": "0e7b65fd-6222-4b74-aca1-379aa9c1f4de"
   },
   "outputs": [],
   "source": []
  },
  {
   "cell_type": "markdown",
   "metadata": {
    "id": "yoS-89JUEipH"
   },
   "source": [
    "\n",
    "### Add index names to the `quran_df` (use the Surah name as index)\n"
   ]
  },
  {
   "cell_type": "code",
   "execution_count": null,
   "metadata": {
    "executionInfo": {
     "elapsed": 394,
     "status": "ok",
     "timestamp": 1626876433654,
     "user": {
      "displayName": "ihssene brahimi",
      "photoUrl": "https://lh3.googleusercontent.com/a-/AOh14GgKpjSW5VySqduZaVP1JaBV6P-qJ_ay4tNRudKSJw=s64",
      "userId": "07263068965449987509"
     },
     "user_tz": -60
    },
    "id": "LgmoN_JEEipI"
   },
   "outputs": [],
   "source": []
  },
  {
   "cell_type": "markdown",
   "metadata": {
    "id": "OXk7LtwAEipI"
   },
   "source": [
    "\n",
    "### Drop the name column as it's now the index"
   ]
  },
  {
   "cell_type": "code",
   "execution_count": null,
   "metadata": {
    "colab": {
     "base_uri": "https://localhost:8080/",
     "height": 669
    },
    "executionInfo": {
     "elapsed": 277,
     "status": "ok",
     "timestamp": 1626876436223,
     "user": {
      "displayName": "ihssene brahimi",
      "photoUrl": "https://lh3.googleusercontent.com/a-/AOh14GgKpjSW5VySqduZaVP1JaBV6P-qJ_ay4tNRudKSJw=s64",
      "userId": "07263068965449987509"
     },
     "user_tz": -60
    },
    "id": "96lmkZAoEipJ",
    "outputId": "e96bf940-29eb-45c9-cf30-3e6423cf12e4"
   },
   "outputs": [],
   "source": []
  },
  {
   "cell_type": "markdown",
   "metadata": {
    "id": "6y1sM6hVEipK"
   },
   "source": [
    "\n",
    "\n",
    "\n",
    "\n",
    "### Drop 'Al Baqarah' and 'Al Aaraf' rows\n"
   ]
  },
  {
   "cell_type": "code",
   "execution_count": null,
   "metadata": {
    "executionInfo": {
     "elapsed": 422,
     "status": "ok",
     "timestamp": 1626876439204,
     "user": {
      "displayName": "ihssene brahimi",
      "photoUrl": "https://lh3.googleusercontent.com/a-/AOh14GgKpjSW5VySqduZaVP1JaBV6P-qJ_ay4tNRudKSJw=s64",
      "userId": "07263068965449987509"
     },
     "user_tz": -60
    },
    "id": "WOY_UlZWEipK"
   },
   "outputs": [],
   "source": []
  },
  {
   "cell_type": "markdown",
   "metadata": {
    "id": "KOIXArW4EipL"
   },
   "source": [
    "\n",
    "## 2. DataFrame selection, slicing and indexation"
   ]
  },
  {
   "cell_type": "markdown",
   "metadata": {
    "id": "bU61qjulEipM"
   },
   "source": [
    "### Show the first 5 elements on `quran_df`\n",
    " "
   ]
  },
  {
   "cell_type": "code",
   "execution_count": null,
   "metadata": {
    "colab": {
     "base_uri": "https://localhost:8080/",
     "height": 225
    },
    "executionInfo": {
     "elapsed": 338,
     "status": "ok",
     "timestamp": 1626876441274,
     "user": {
      "displayName": "ihssene brahimi",
      "photoUrl": "https://lh3.googleusercontent.com/a-/AOh14GgKpjSW5VySqduZaVP1JaBV6P-qJ_ay4tNRudKSJw=s64",
      "userId": "07263068965449987509"
     },
     "user_tz": -60
    },
    "id": "hpxf7POxEipN",
    "outputId": "c8e6404c-2199-4d78-d5cf-b401d3fd321f"
   },
   "outputs": [],
   "source": []
  },
  {
   "cell_type": "markdown",
   "metadata": {
    "id": "kjG0XrhDEipN"
   },
   "source": [
    "\n",
    "### Show the last 5 elements on `quran_df`\n"
   ]
  },
  {
   "cell_type": "code",
   "execution_count": null,
   "metadata": {
    "colab": {
     "base_uri": "https://localhost:8080/",
     "height": 225
    },
    "executionInfo": {
     "elapsed": 492,
     "status": "ok",
     "timestamp": 1626876444625,
     "user": {
      "displayName": "ihssene brahimi",
      "photoUrl": "https://lh3.googleusercontent.com/a-/AOh14GgKpjSW5VySqduZaVP1JaBV6P-qJ_ay4tNRudKSJw=s64",
      "userId": "07263068965449987509"
     },
     "user_tz": -60
    },
    "id": "iX5l9LNtEipO",
    "outputId": "9e4aad13-4a62-46f3-9f8e-13a5b77ad1bd"
   },
   "outputs": [],
   "source": []
  },
  {
   "cell_type": "markdown",
   "metadata": {
    "id": "ZzD23YE-EipO"
   },
   "source": [
    "\n",
    "### Show just the type of the first 5 elements on `quran_df`"
   ]
  },
  {
   "cell_type": "code",
   "execution_count": null,
   "metadata": {
    "colab": {
     "base_uri": "https://localhost:8080/"
    },
    "executionInfo": {
     "elapsed": 302,
     "status": "ok",
     "timestamp": 1626876446669,
     "user": {
      "displayName": "ihssene brahimi",
      "photoUrl": "https://lh3.googleusercontent.com/a-/AOh14GgKpjSW5VySqduZaVP1JaBV6P-qJ_ay4tNRudKSJw=s64",
      "userId": "07263068965449987509"
     },
     "user_tz": -60
    },
    "id": "W56fIzZuEipO",
    "outputId": "662ef94d-dccc-4358-df48-eac74961b50a"
   },
   "outputs": [],
   "source": []
  },
  {
   "cell_type": "markdown",
   "metadata": {
    "id": "PsD6JUwnEipP"
   },
   "source": [
    "\n",
    "\n",
    "### Show the number of verses of all middle elements on `quran_df` "
   ]
  },
  {
   "cell_type": "code",
   "execution_count": null,
   "metadata": {
    "colab": {
     "base_uri": "https://localhost:8080/"
    },
    "executionInfo": {
     "elapsed": 279,
     "status": "ok",
     "timestamp": 1626876448637,
     "user": {
      "displayName": "ihssene brahimi",
      "photoUrl": "https://lh3.googleusercontent.com/a-/AOh14GgKpjSW5VySqduZaVP1JaBV6P-qJ_ay4tNRudKSJw=s64",
      "userId": "07263068965449987509"
     },
     "user_tz": -60
    },
    "id": "V2VHCZ7HEipP",
    "outputId": "46919a6b-8b68-46b4-9f15-83f5e1a6e73c"
   },
   "outputs": [],
   "source": []
  },
  {
   "cell_type": "markdown",
   "metadata": {
    "id": "ZVF3o1anEipP"
   },
   "source": [
    "\n",
    "### Show the first and last elements on `quran_df`\n"
   ]
  },
  {
   "cell_type": "code",
   "execution_count": null,
   "metadata": {
    "colab": {
     "base_uri": "https://localhost:8080/",
     "height": 550
    },
    "executionInfo": {
     "elapsed": 283,
     "status": "ok",
     "timestamp": 1626876497702,
     "user": {
      "displayName": "ihssene brahimi",
      "photoUrl": "https://lh3.googleusercontent.com/a-/AOh14GgKpjSW5VySqduZaVP1JaBV6P-qJ_ay4tNRudKSJw=s64",
      "userId": "07263068965449987509"
     },
     "user_tz": -60
    },
    "id": "-zcOZin9EipQ",
    "outputId": "2cabf8f1-3115-4a73-f42b-d12ee6283275"
   },
   "outputs": [],
   "source": []
  },
  {
   "cell_type": "markdown",
   "metadata": {
    "id": "rFDE8feiEipR"
   },
   "source": [
    "\n",
    "\n",
    "## 3. DataFrame manipulation and operations"
   ]
  },
  {
   "cell_type": "markdown",
   "metadata": {
    "id": "wMIM5F3yEipR"
   },
   "source": [
    "### Modify the `first_appearance` of 'Vision' to year 1964"
   ]
  },
  {
   "cell_type": "code",
   "execution_count": null,
   "metadata": {
    "colab": {
     "base_uri": "https://localhost:8080/",
     "height": 643
    },
    "executionInfo": {
     "elapsed": 305,
     "status": "ok",
     "timestamp": 1626022756473,
     "user": {
      "displayName": "otmane Amel",
      "photoUrl": "",
      "userId": "11927100356549186655"
     },
     "user_tz": -60
    },
    "id": "mPSJdJEeEipR",
    "outputId": "b8cd3b0b-4074-4852-fee7-179356fda207"
   },
   "outputs": [],
   "source": []
  },
  {
   "cell_type": "markdown",
   "metadata": {
    "id": "OKTIzAuJEipS"
   },
   "source": [
    "\n",
    "\n",
    "### Add a new column to `quran_df` called 'hizb' that represents the number of Ahzab per Surah\n"
   ]
  },
  {
   "cell_type": "code",
   "execution_count": null,
   "metadata": {
    "colab": {
     "base_uri": "https://localhost:8080/",
     "height": 643
    },
    "executionInfo": {
     "elapsed": 290,
     "status": "ok",
     "timestamp": 1626022850602,
     "user": {
      "displayName": "otmane Amel",
      "photoUrl": "",
      "userId": "11927100356549186655"
     },
     "user_tz": -60
    },
    "id": "3usBTsmZEipS",
    "outputId": "0364e03d-a3b1-4317-f5d5-61f5cff34552"
   },
   "outputs": [],
   "source": []
  },
  {
   "cell_type": "markdown",
   "metadata": {
    "id": "VyyGMKViEipS"
   },
   "source": [
    "\n",
    "## 4. DataFrame boolean arrays (also called masks)"
   ]
  },
  {
   "cell_type": "markdown",
   "metadata": {
    "id": "iSG9XygPEipT"
   },
   "source": [
    "### Given the `quran_df` pandas DataFrame, make a mask showing only Madani Surat\n"
   ]
  },
  {
   "cell_type": "code",
   "execution_count": null,
   "metadata": {
    "colab": {
     "base_uri": "https://localhost:8080/",
     "height": 236
    },
    "executionInfo": {
     "elapsed": 299,
     "status": "ok",
     "timestamp": 1626022979401,
     "user": {
      "displayName": "otmane Amel",
      "photoUrl": "",
      "userId": "11927100356549186655"
     },
     "user_tz": -60
    },
    "id": "0I8b0AX8EipT",
    "outputId": "815c7d71-0167-4cc6-f5bd-d412bfd05b48"
   },
   "outputs": [],
   "source": []
  },
  {
   "cell_type": "markdown",
   "metadata": {
    "id": "XMekoJnSEipT"
   },
   "source": [
    "\n",
    "### Given the `quran_df` pandas DataFrame, get the Makki Surat\n"
   ]
  },
  {
   "cell_type": "code",
   "execution_count": null,
   "metadata": {
    "id": "Y2TLVXgDEipT"
   },
   "outputs": [],
   "source": []
  },
  {
   "cell_type": "markdown",
   "metadata": {
    "id": "gfsSOZM2EipU"
   },
   "source": [
    "\n",
    "### Given the `quran_df` pandas DataFrame, get the Surat with `hizb` more than 2\n"
   ]
  },
  {
   "cell_type": "code",
   "execution_count": null,
   "metadata": {
    "colab": {
     "base_uri": "https://localhost:8080/",
     "height": 143
    },
    "executionInfo": {
     "elapsed": 315,
     "status": "ok",
     "timestamp": 1626023008607,
     "user": {
      "displayName": "otmane Amel",
      "photoUrl": "",
      "userId": "11927100356549186655"
     },
     "user_tz": -60
    },
    "id": "xB7ggDMvEipU",
    "outputId": "04180be9-dd3a-4e2d-ccf6-1d9de8934d40"
   },
   "outputs": [],
   "source": []
  },
  {
   "cell_type": "markdown",
   "metadata": {
    "id": "w1xzC-TOEipU"
   },
   "source": [
    "\n",
    "\n",
    "### Given the `quran_df` pandas DataFrame, get the Madani Surat with `hizb` more than 2"
   ]
  },
  {
   "cell_type": "code",
   "execution_count": null,
   "metadata": {
    "colab": {
     "base_uri": "https://localhost:8080/",
     "height": 112
    },
    "executionInfo": {
     "elapsed": 340,
     "status": "ok",
     "timestamp": 1626023082364,
     "user": {
      "displayName": "otmane Amel",
      "photoUrl": "",
      "userId": "11927100356549186655"
     },
     "user_tz": -60
    },
    "id": "RuvTlLU2EipU",
    "outputId": "c4d4c4ac-72cd-45b2-ed86-19350bd3dbfb"
   },
   "outputs": [],
   "source": []
  },
  {
   "cell_type": "markdown",
   "metadata": {
    "id": "ZXgJ3JdnEipV"
   },
   "source": [
    "\n",
    "## 5. DataFrame summary statistics"
   ]
  },
  {
   "cell_type": "markdown",
   "metadata": {
    "id": "U-K7gzXVEipV"
   },
   "source": [
    "### Show basic statistics of `quran_df`"
   ]
  },
  {
   "cell_type": "code",
   "execution_count": null,
   "metadata": {
    "colab": {
     "base_uri": "https://localhost:8080/"
    },
    "executionInfo": {
     "elapsed": 261,
     "status": "ok",
     "timestamp": 1626023100380,
     "user": {
      "displayName": "otmane Amel",
      "photoUrl": "",
      "userId": "11927100356549186655"
     },
     "user_tz": -60
    },
    "id": "TLcE-ib2EipV",
    "outputId": "0e468a63-196c-4999-acd0-8db4e1b36a2e"
   },
   "outputs": [],
   "source": []
  },
  {
   "cell_type": "markdown",
   "metadata": {
    "id": "MIfi36XkEipV"
   },
   "source": [
    "\n",
    "### Given the `quran_df` pandas DataFrame, show the mean value of `hizb`"
   ]
  },
  {
   "cell_type": "code",
   "execution_count": null,
   "metadata": {
    "colab": {
     "base_uri": "https://localhost:8080/",
     "height": 299
    },
    "executionInfo": {
     "elapsed": 275,
     "status": "ok",
     "timestamp": 1626023125339,
     "user": {
      "displayName": "otmane Amel",
      "photoUrl": "",
      "userId": "11927100356549186655"
     },
     "user_tz": -60
    },
    "id": "SqOwY0apEipW",
    "outputId": "c2f1a5eb-d749-4944-e0db-0aa98cac76d1"
   },
   "outputs": [],
   "source": []
  },
  {
   "cell_type": "markdown",
   "metadata": {
    "id": "-TR9NBi2EipW"
   },
   "source": [
    "\n",
    "\n",
    "### Given the `quran_df` pandas DataFrame, show the min value of `hizb`\n"
   ]
  },
  {
   "cell_type": "code",
   "execution_count": null,
   "metadata": {
    "colab": {
     "base_uri": "https://localhost:8080/"
    },
    "executionInfo": {
     "elapsed": 263,
     "status": "ok",
     "timestamp": 1626023195237,
     "user": {
      "displayName": "otmane Amel",
      "photoUrl": "",
      "userId": "11927100356549186655"
     },
     "user_tz": -60
    },
    "id": "OKmhCSS3EipW",
    "outputId": "4b5818ee-6582-4496-b6f0-ea131686c2f3"
   },
   "outputs": [],
   "source": []
  },
  {
   "cell_type": "markdown",
   "metadata": {
    "id": "H_b2LgivEipW"
   },
   "source": [
    "\n",
    "\n",
    "### Given the `quran_df` pandas DataFrame, get the Surah with the min value of `hizb`"
   ]
  },
  {
   "cell_type": "code",
   "execution_count": null,
   "metadata": {
    "colab": {
     "base_uri": "https://localhost:8080/",
     "height": 112
    },
    "executionInfo": {
     "elapsed": 271,
     "status": "ok",
     "timestamp": 1626023288702,
     "user": {
      "displayName": "otmane Amel",
      "photoUrl": "",
      "userId": "11927100356549186655"
     },
     "user_tz": -60
    },
    "id": "sCIoqOVpEipW",
    "outputId": "e74def5d-3d8d-4eac-a6e2-76ea97a4e6a7"
   },
   "outputs": [],
   "source": []
  },
  {
   "cell_type": "markdown",
   "metadata": {
    "id": "VELxmrdGEipX"
   },
   "source": [
    "\n",
    "\n",
    "## 6. DataFrame basic plottings"
   ]
  },
  {
   "cell_type": "markdown",
   "metadata": {
    "id": "lTIeMlxgEipX"
   },
   "source": [
    "### Reset index names of `quran_df`\n"
   ]
  },
  {
   "cell_type": "code",
   "execution_count": null,
   "metadata": {
    "id": "Aju5qh90EipX"
   },
   "outputs": [],
   "source": []
  },
  {
   "cell_type": "markdown",
   "metadata": {
    "id": "jEwIe7dTEipd"
   },
   "source": [
    "\n",
    "### Plot the values of `hizb`\n"
   ]
  },
  {
   "cell_type": "code",
   "execution_count": null,
   "metadata": {
    "colab": {
     "base_uri": "https://localhost:8080/"
    },
    "executionInfo": {
     "elapsed": 13,
     "status": "ok",
     "timestamp": 1626023518225,
     "user": {
      "displayName": "otmane Amel",
      "photoUrl": "",
      "userId": "11927100356549186655"
     },
     "user_tz": -60
    },
    "id": "ByCHWtljEipe",
    "outputId": "4a2567dc-036d-4904-f8cf-6cc7d8a0d78f"
   },
   "outputs": [],
   "source": []
  },
  {
   "cell_type": "markdown",
   "metadata": {
    "id": "kBwukGa-Eipe"
   },
   "source": [
    "\n",
    "### Plot a histogram (plot.hist) with values of `hizb`\n"
   ]
  },
  {
   "cell_type": "code",
   "execution_count": null,
   "metadata": {
    "id": "-hSxFU0UEipf"
   },
   "outputs": [],
   "source": []
  }
 ],
 "metadata": {
  "colab": {
   "collapsed_sections": [],
   "name": "Copie de 4 - Pandas DataFrames exercises.ipynb",
   "provenance": [
    {
     "file_id": "1JsaOBOIRc_UwhtWsr5yVCe2Ec5w0lnu-",
     "timestamp": 1626541224090
    }
   ]
  },
  "kernelspec": {
   "display_name": "Python 3",
   "language": "python",
   "name": "python3"
  },
  "language_info": {
   "codemirror_mode": {
    "name": "ipython",
    "version": 3
   },
   "file_extension": ".py",
   "mimetype": "text/x-python",
   "name": "python",
   "nbconvert_exporter": "python",
   "pygments_lexer": "ipython3",
   "version": "3.8.1"
  }
 },
 "nbformat": 4,
 "nbformat_minor": 0
}
