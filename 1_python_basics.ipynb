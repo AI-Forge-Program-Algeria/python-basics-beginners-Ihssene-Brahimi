{
 "cells": [
  {
   "cell_type": "markdown",
   "metadata": {
    "id": "aRmeuL6YWoU3"
   },
   "source": [
    "# Exercice 1\n",
    "\n",
    "Write a Python function to find the Max of three numbers."
   ]
  },
  {
   "cell_type": "code",
   "execution_count": null,
   "metadata": {
    "colab": {
     "base_uri": "https://localhost:8080/"
    },
    "executionInfo": {
     "elapsed": 9172,
     "status": "ok",
     "timestamp": 1625751000014,
     "user": {
      "displayName": "ihssene brahimi",
      "photoUrl": "https://lh3.googleusercontent.com/a-/AOh14GgKpjSW5VySqduZaVP1JaBV6P-qJ_ay4tNRudKSJw=s64",
      "userId": "07263068965449987509"
     },
     "user_tz": -60
    },
    "id": "MhcIJv4nb2HE",
    "outputId": "f6add72b-7bc0-42bb-a526-91c1deefb1a3"
   },
   "outputs": [],
   "source": []
  },
  {
   "cell_type": "markdown",
   "metadata": {
    "id": "MukkavLLWzrd"
   },
   "source": [
    "# Exercice 2\n",
    "\n",
    "Write a Python function to sum all the odd numbers in a list "
   ]
  },
  {
   "cell_type": "code",
   "execution_count": null,
   "metadata": {
    "colab": {
     "base_uri": "https://localhost:8080/"
    },
    "executionInfo": {
     "elapsed": 498,
     "status": "ok",
     "timestamp": 1625753121930,
     "user": {
      "displayName": "ihssene brahimi",
      "photoUrl": "https://lh3.googleusercontent.com/a-/AOh14GgKpjSW5VySqduZaVP1JaBV6P-qJ_ay4tNRudKSJw=s64",
      "userId": "07263068965449987509"
     },
     "user_tz": -60
    },
    "id": "QuSqIQMib1gB",
    "outputId": "2c204ec8-04f4-4566-81c8-7e412961a9cd"
   },
   "outputs": [],
   "source": [
    "\n"
   ]
  },
  {
   "cell_type": "markdown",
   "metadata": {
    "id": "hrCISsCKW4Sw"
   },
   "source": [
    "# Exercice 3\n",
    "\n",
    "Write a Python function that takes a list and returns a new list with unique elements of the first list.\n",
    "\n",
    "\n",
    "\n",
    "```\n",
    "Sample List : [1,2,3,3,3,3,4,5]\n",
    "Unique List : [1, 2, 3, 4, 5]\n",
    "\n",
    "```\n",
    "\n"
   ]
  },
  {
   "cell_type": "code",
   "execution_count": null,
   "metadata": {
    "colab": {
     "base_uri": "https://localhost:8080/"
    },
    "executionInfo": {
     "elapsed": 356,
     "status": "ok",
     "timestamp": 1625751739953,
     "user": {
      "displayName": "ihssene brahimi",
      "photoUrl": "https://lh3.googleusercontent.com/a-/AOh14GgKpjSW5VySqduZaVP1JaBV6P-qJ_ay4tNRudKSJw=s64",
      "userId": "07263068965449987509"
     },
     "user_tz": -60
    },
    "id": "f7hHjRuVb072",
    "outputId": "7c4f68b4-3882-498c-e0ae-e98f76ae8c46"
   },
   "outputs": [],
   "source": []
  },
  {
   "cell_type": "markdown",
   "metadata": {
    "id": "sJr5a2B1XEjF"
   },
   "source": [
    "# Exercice 4\n",
    "\n",
    "4.\tWrite a Python program to print out a set containing all the elements from list_1 which are not present in list_2. \n",
    "\n",
    "\n",
    "```\n",
    "Test Data :\n",
    "list_1 = set([\"Jhon\", \"Adam\", \"Eva\"])\n",
    "list_2 = set([\"Adam\", \"Green\"])\n",
    "Expected Output :\n",
    "{'Jhon','Eva'}\n",
    "```\n",
    "\n",
    "\n"
   ]
  },
  {
   "cell_type": "code",
   "execution_count": null,
   "metadata": {
    "colab": {
     "base_uri": "https://localhost:8080/"
    },
    "executionInfo": {
     "elapsed": 906,
     "status": "ok",
     "timestamp": 1625752390279,
     "user": {
      "displayName": "ihssene brahimi",
      "photoUrl": "https://lh3.googleusercontent.com/a-/AOh14GgKpjSW5VySqduZaVP1JaBV6P-qJ_ay4tNRudKSJw=s64",
      "userId": "07263068965449987509"
     },
     "user_tz": -60
    },
    "id": "_FbGjemVb0TI",
    "outputId": "e2e2b92c-c65e-42ef-e249-26eeee0eec41"
   },
   "outputs": [],
   "source": []
  },
  {
   "cell_type": "markdown",
   "metadata": {
    "id": "h41BUOcLXTzT"
   },
   "source": [
    "# Exercice 5\n",
    "\n",
    "Write a Python program to check whether a variable is of float or boolean, in two lines of code, and please use **isinstance**"
   ]
  },
  {
   "cell_type": "code",
   "execution_count": null,
   "metadata": {
    "colab": {
     "base_uri": "https://localhost:8080/"
    },
    "executionInfo": {
     "elapsed": 3799,
     "status": "ok",
     "timestamp": 1625842068940,
     "user": {
      "displayName": "ihssene brahimi",
      "photoUrl": "https://lh3.googleusercontent.com/a-/AOh14GgKpjSW5VySqduZaVP1JaBV6P-qJ_ay4tNRudKSJw=s64",
      "userId": "07263068965449987509"
     },
     "user_tz": -60
    },
    "id": "9zwHGOPDbzfW",
    "outputId": "b59aa92c-51a2-4784-b3fa-dfe4a61c4880"
   },
   "outputs": [],
   "source": []
  },
  {
   "cell_type": "markdown",
   "metadata": {
    "id": "9wfilEXqXjJv"
   },
   "source": []
  },
  {
   "cell_type": "code",
   "execution_count": null,
   "metadata": {
    "colab": {
     "base_uri": "https://localhost:8080/"
    },
    "executionInfo": {
     "elapsed": 3390,
     "status": "ok",
     "timestamp": 1625754417376,
     "user": {
      "displayName": "ihssene brahimi",
      "photoUrl": "https://lh3.googleusercontent.com/a-/AOh14GgKpjSW5VySqduZaVP1JaBV6P-qJ_ay4tNRudKSJw=s64",
      "userId": "07263068965449987509"
     },
     "user_tz": -60
    },
    "id": "189rC_71WmR-",
    "outputId": "0202b2da-ba9f-4bbd-c4e6-7b3a3527a687"
   },
   "outputs": [],
   "source": []
  },
  {
   "cell_type": "markdown",
   "metadata": {
    "id": "r6oQjFUrXpnf"
   },
   "source": [
    "# Exercice 7\n",
    "\n",
    "Write a Python function that accepts a string and calculate the number of upper case letters and lower case letters."
   ]
  },
  {
   "cell_type": "code",
   "execution_count": null,
   "metadata": {
    "colab": {
     "base_uri": "https://localhost:8080/"
    },
    "executionInfo": {
     "elapsed": 14152,
     "status": "ok",
     "timestamp": 1625756426099,
     "user": {
      "displayName": "ihssene brahimi",
      "photoUrl": "https://lh3.googleusercontent.com/a-/AOh14GgKpjSW5VySqduZaVP1JaBV6P-qJ_ay4tNRudKSJw=s64",
      "userId": "07263068965449987509"
     },
     "user_tz": -60
    },
    "id": "1QMPcTkmbyca",
    "outputId": "16f11bf8-549d-4765-8cd4-96fc7134f298"
   },
   "outputs": [],
   "source": []
  },
  {
   "cell_type": "markdown",
   "metadata": {
    "id": "t_soF5tMXwRz"
   },
   "source": [
    "# Exercice 8\n",
    "\n",
    "Write a Python program that accepts a hyphen-separated sequence of words as input and prints the words in a hyphen-separated sequence after sorting them alphabetically. \n",
    "```\n",
    "Sample Items : green-red-yellow-black-white\n",
    "Expected Result : black-green-red-white-yellow\n",
    "``` "
   ]
  },
  {
   "cell_type": "code",
   "execution_count": null,
   "metadata": {
    "colab": {
     "base_uri": "https://localhost:8080/",
     "height": 52
    },
    "executionInfo": {
     "elapsed": 2216,
     "status": "ok",
     "timestamp": 1625759727441,
     "user": {
      "displayName": "ihssene brahimi",
      "photoUrl": "https://lh3.googleusercontent.com/a-/AOh14GgKpjSW5VySqduZaVP1JaBV6P-qJ_ay4tNRudKSJw=s64",
      "userId": "07263068965449987509"
     },
     "user_tz": -60
    },
    "id": "-agDtKBsX8Lw",
    "outputId": "25619849-346f-4a58-c29e-ae3b8b4e31e5"
   },
   "outputs": [],
   "source": []
  },
  {
   "cell_type": "markdown",
   "metadata": {
    "id": "Gytg6jEUX8r8"
   },
   "source": [
    "# Exercice 9\n",
    "\n",
    "Using **filter()** function, filter the list so that only negative numbers are left."
   ]
  },
  {
   "cell_type": "code",
   "execution_count": null,
   "metadata": {
    "colab": {
     "base_uri": "https://localhost:8080/"
    },
    "executionInfo": {
     "elapsed": 1839,
     "status": "ok",
     "timestamp": 1625757777227,
     "user": {
      "displayName": "ihssene brahimi",
      "photoUrl": "https://lh3.googleusercontent.com/a-/AOh14GgKpjSW5VySqduZaVP1JaBV6P-qJ_ay4tNRudKSJw=s64",
      "userId": "07263068965449987509"
     },
     "user_tz": -60
    },
    "id": "pUwRjdvGYC9v",
    "outputId": "4f442a54-b4fe-4a41-b0ba-0ce292d79aeb"
   },
   "outputs": [],
   "source": []
  },
  {
   "cell_type": "markdown",
   "metadata": {
    "id": "M35sWj2oYDeB"
   },
   "source": [
    "# Exercice 10\n",
    "\n",
    "Using **filter()** and **list()** functions and **.lower()** method filter all the vowels in a given string."
   ]
  },
  {
   "cell_type": "code",
   "execution_count": null,
   "metadata": {
    "colab": {
     "base_uri": "https://localhost:8080/"
    },
    "executionInfo": {
     "elapsed": 13316,
     "status": "ok",
     "timestamp": 1625842721787,
     "user": {
      "displayName": "ihssene brahimi",
      "photoUrl": "https://lh3.googleusercontent.com/a-/AOh14GgKpjSW5VySqduZaVP1JaBV6P-qJ_ay4tNRudKSJw=s64",
      "userId": "07263068965449987509"
     },
     "user_tz": -60
    },
    "id": "RJxdbsUQYN1s",
    "outputId": "b46d8462-03d9-41d4-beaf-a06bcfe27450"
   },
   "outputs": [],
   "source": []
  },
  {
   "cell_type": "markdown",
   "metadata": {
    "id": "eT_QrfgGYORM"
   },
   "source": [
    "# Exercice 11\n",
    "\n",
    "Write a Python program to clone or copy a list (hint : use ``` copy library ```  ) then print the old and new id number using id()  "
   ]
  },
  {
   "cell_type": "code",
   "execution_count": null,
   "metadata": {
    "id": "Vj7PUYzkYfAf"
   },
   "outputs": [],
   "source": []
  },
  {
   "cell_type": "markdown",
   "metadata": {
    "id": "KZvq0hElYbov"
   },
   "source": [
    "# Exercice 12\n",
    "\n",
    "\n",
    "Write a Python program to map two lists into a dictionary\n",
    "\n",
    "```\n",
    "sample input : \n",
    "[\"A\",\"B\",\"C\"]\n",
    "[1,2,3]\n",
    "output : \n",
    "{\"A\":1,\"B\":2,\"C\":3}\n",
    "```"
   ]
  },
  {
   "cell_type": "code",
   "execution_count": null,
   "metadata": {
    "colab": {
     "base_uri": "https://localhost:8080/"
    },
    "executionInfo": {
     "elapsed": 444,
     "status": "ok",
     "timestamp": 1625759532148,
     "user": {
      "displayName": "ihssene brahimi",
      "photoUrl": "https://lh3.googleusercontent.com/a-/AOh14GgKpjSW5VySqduZaVP1JaBV6P-qJ_ay4tNRudKSJw=s64",
      "userId": "07263068965449987509"
     },
     "user_tz": -60
    },
    "id": "h2aBQoQNZX48",
    "outputId": "785de4a9-6c41-48a9-c31f-b4286ae8e274"
   },
   "outputs": [],
   "source": []
  },
  {
   "cell_type": "markdown",
   "metadata": {
    "id": "zVN1TozBZYvW"
   },
   "source": [
    "# Exercice 13 \n",
    "\n",
    "Write a Python program to remove spaces from dictionary keys.\n",
    "\n",
    "```\n",
    "sample input : \n",
    "{\"A   \" : 1,\" B\":2,\"  C  \":3}\n",
    "output: \n",
    "{\"A\":1,\"B\":2,\"C\":3}\n",
    "\n"
   ]
  },
  {
   "cell_type": "code",
   "execution_count": null,
   "metadata": {
    "colab": {
     "base_uri": "https://localhost:8080/"
    },
    "executionInfo": {
     "elapsed": 278,
     "status": "ok",
     "timestamp": 1625876267406,
     "user": {
      "displayName": "ihssene brahimi",
      "photoUrl": "https://lh3.googleusercontent.com/a-/AOh14GgKpjSW5VySqduZaVP1JaBV6P-qJ_ay4tNRudKSJw=s64",
      "userId": "07263068965449987509"
     },
     "user_tz": -60
    },
    "id": "ADWp-if2Z51C",
    "outputId": "9eef50fc-1587-4347-8ad8-7e45515196be"
   },
   "outputs": [],
   "source": []
  },
  {
   "cell_type": "markdown",
   "metadata": {
    "id": "_x-4c-vDZ5cZ"
   },
   "source": [
    "# Exercice 14\n",
    "\n",
    "Add a list of elements to a given set.\n",
    "\n",
    "- Explain why add function is not a good choice. "
   ]
  },
  {
   "cell_type": "code",
   "execution_count": null,
   "metadata": {
    "id": "thhFwHImbEMx"
   },
   "outputs": [],
   "source": []
  },
  {
   "cell_type": "markdown",
   "metadata": {
    "id": "TLMBu_94bEte"
   },
   "source": [
    "# Exercice 15\n",
    "\n",
    "Write a Python program to calculate the time runs (difference between start and current time) of a program. (consider using the ``` time ``` library ).\n"
   ]
  },
  {
   "cell_type": "code",
   "execution_count": null,
   "metadata": {
    "colab": {
     "base_uri": "https://localhost:8080/",
     "height": 212
    },
    "executionInfo": {
     "elapsed": 1007,
     "status": "error",
     "timestamp": 1625907824995,
     "user": {
      "displayName": "ihssene brahimi",
      "photoUrl": "https://lh3.googleusercontent.com/a-/AOh14GgKpjSW5VySqduZaVP1JaBV6P-qJ_ay4tNRudKSJw=s64",
      "userId": "07263068965449987509"
     },
     "user_tz": -60
    },
    "id": "mRSaarl5bRi8",
    "outputId": "0a9b7a03-e5ce-4c1a-dfe9-58210db3cbac"
   },
   "outputs": [],
   "source": []
  },
  {
   "cell_type": "markdown",
   "metadata": {
    "id": "pxrJIUvjbUFP"
   },
   "source": [
    "# Exercice 16\n",
    "\n",
    "write a program that shuffle and print a given list (hint : use the library ``` random ``` )"
   ]
  },
  {
   "cell_type": "code",
   "execution_count": null,
   "metadata": {
    "id": "m-H2YHC0bwtd"
   },
   "outputs": [],
   "source": []
  },
  {
   "cell_type": "markdown",
   "metadata": {
    "id": "SSuwDUFnTH9Q"
   },
   "source": [
    "# Exercice 17\n",
    "Write the definition of a Point class. Objects from this class should have a\n",
    "\n",
    "a method show to display the coordinates of the point\n",
    "a method move to change these coordinates.\n",
    "a method dist that computes the distance between 2 points.\n",
    "Note the distance between 2 points A(x0, y0) and B(x1, y1) can be compute as follows\n",
    "$d(A,B)=\\sqrt{(x_{1}+x_{0})^{2} + (y_{1}+y_{0})^{2} }$\n",
    "\n",
    "this is the expected result\n",
    "\n",
    "```\n",
    "p1 = Point(2, 3)\n",
    ">>> p2 = Point(3, 3)\n",
    ">>> p1.show()\n",
    "(2, 3)\n",
    ">>> p2.show()\n",
    "(3, 3)\n",
    ">>> p1.move(10, -10)\n",
    ">>> p1.show()\n",
    "(12, -7)\n",
    ">>> p2.show()\n",
    "(3, 3)\n",
    ">>> p1.dist(p2)\n",
    "1.0\n",
    "```\n",
    "\n"
   ]
  },
  {
   "cell_type": "code",
   "execution_count": null,
   "metadata": {
    "colab": {
     "base_uri": "https://localhost:8080/"
    },
    "executionInfo": {
     "elapsed": 368,
     "status": "ok",
     "timestamp": 1625762812823,
     "user": {
      "displayName": "ihssene brahimi",
      "photoUrl": "https://lh3.googleusercontent.com/a-/AOh14GgKpjSW5VySqduZaVP1JaBV6P-qJ_ay4tNRudKSJw=s64",
      "userId": "07263068965449987509"
     },
     "user_tz": -60
    },
    "id": "-fbibLjKb-Pj",
    "outputId": "7a16121f-33a5-42ff-8e39-9882164dc0c7"
   },
   "outputs": [],
   "source": []
  },
  {
   "cell_type": "markdown",
   "metadata": {
    "id": "yAWjIdnkUtvh"
   },
   "source": [
    "implement a Matrix class that has the following functions : \n",
    "\n",
    "- **size**: return the number of rows, and number of columns\n",
    "- **get_cell**: that take the number of rows, the number of columns as parameters, and returns the content of cell corresponding to row number col number\n",
    "- **set_cell**: that take the number of rows, the number of columns as parameters, and a value and set the value val in cell specified by row number x column number\n",
    "- **to_str**: return a string representation of the matrix\n",
    "- **mult**: that take a scalar and return a new matrix which is the scalar product of matrix x val\n",
    "\n",
    "expected result : \n",
    "\n",
    "\n",
    "\n",
    "\n",
    "```\n",
    "m1 = Matrix(row=2, col=3,val=4)\n",
    ">>> print(m1)\n",
    "4 4 4\n",
    "4 4 4\n",
    "m2 = Matrix(row=2, col=2)\n",
    ">>>print(m2)\n",
    "None None\n",
    "None None\n",
    ">>> m1.mult(2)\n",
    ">>> print(m1)\n",
    "8 8 8\n",
    "8 8 8\n",
    ">>> m1.set_cell(1,1,-1)\n",
    ">>> print(m1)\n",
    "8 8 8\n",
    "8 -1 8\n",
    ">>> m1.size()\n",
    "(2,3)\n",
    "\n",
    "\n",
    "```\n",
    "\n",
    "\n"
   ]
  },
  {
   "cell_type": "code",
   "execution_count": null,
   "metadata": {
    "id": "pzh8bA7tTFE4"
   },
   "outputs": [],
   "source": []
  },
  {
   "cell_type": "markdown",
   "metadata": {
    "id": "eMprKbCFw4I5"
   },
   "source": [
    "# Exercice 19\n",
    "\n",
    "- Write a Python program to read an entire text file\n",
    "- Write a Python program to read first n lines of a file\n",
    "- Write a Python program to append text to a file and display the text\n",
    "- Write a Python program to read a file line by line and store it into a list\n",
    "- Write a python program to find the longest words.\n",
    "- Write a Python program to count the frequency of words in a file.\n",
    "- Write a Python program that creates a file where all letters of English alphabet are listed by n number of letters on each line. The example below is the expected result for n=3\n",
    "\n",
    "```\n",
    "words1.txt\n",
    "ABC\n",
    "DEF\n",
    "GHI\n",
    "JKL\n",
    "MNO\n",
    "PQR\n",
    "STU\n",
    "VWX\n",
    "YZ\n",
    "```\n"
   ]
  },
  {
   "cell_type": "code",
   "execution_count": null,
   "metadata": {
    "id": "euNi5qQH2kbh"
   },
   "outputs": [],
   "source": []
  }
 ],
 "metadata": {
  "colab": {
   "collapsed_sections": [],
   "name": "Copie de python exercices.ipynb",
   "provenance": [
    {
     "file_id": "1QLHy64CagjKlbQL77HOdrOk5Kxof8EFt",
     "timestamp": 1625756735242
    }
   ]
  },
  "kernelspec": {
   "display_name": "Python 3",
   "name": "python3"
  },
  "language_info": {
   "name": "python"
  }
 },
 "nbformat": 4,
 "nbformat_minor": 0
}
