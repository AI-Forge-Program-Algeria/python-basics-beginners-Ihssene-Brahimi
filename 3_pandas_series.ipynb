{
  "cells": [
    {
      "cell_type": "markdown",
      "metadata": {
        "id": "eenvP_yskg_B"
      },
      "source": [
        "\n",
        "\n",
        "# Pandas Series exercises\n"
      ]
    },
    {
      "cell_type": "code",
      "execution_count": null,
      "metadata": {
        "colab": {
          "base_uri": "https://localhost:8080/"
        },
        "id": "Bb-2y7sPkg_R",
        "outputId": "f7eba328-9129-4836-e882-3955713298f1"
      },
      "outputs": [],
      "source": [
        "# Import the numpy package under the name np\n",
        "\n",
        "# Import the pandas package under the name pd\n",
        "\n",
        "# Print the pandas version and the configuration\n",
        "print(pd.__version__)"
      ]
    },
    {
      "cell_type": "markdown",
      "metadata": {
        "id": "2OPM_WKEkg_T"
      },
      "source": [
        "\n",
        "\n",
        "## 1. Series creation"
      ]
    },
    {
      "cell_type": "markdown",
      "metadata": {
        "id": "7sFHeoqrkg_U"
      },
      "source": [
        "### Create an empty pandas Series"
      ]
    },
    {
      "cell_type": "code",
      "execution_count": null,
      "metadata": {
        "colab": {
          "base_uri": "https://localhost:8080/"
        },
        "id": "HP51RaLbkg_U",
        "outputId": "0363edb8-b852-4f73-a613-5be41f07eeb3"
      },
      "outputs": [],
      "source": []
    },
    {
      "cell_type": "markdown",
      "metadata": {
        "id": "vgny9-7Lkg_V"
      },
      "source": [
        "\n",
        "\n",
        "### Given the X python list convert it to an Y pandas Series"
      ]
    },
    {
      "cell_type": "code",
      "execution_count": null,
      "metadata": {
        "id": "AeZPBg5Ykg_X"
      },
      "outputs": [],
      "source": []
    },
    {
      "cell_type": "markdown",
      "metadata": {
        "id": "oNj_6mzukg_Y"
      },
      "source": [
        "\n",
        "\n",
        "### Given the X pandas Series, name it 'My letters'"
      ]
    },
    {
      "cell_type": "code",
      "execution_count": null,
      "metadata": {
        "colab": {
          "base_uri": "https://localhost:8080/"
        },
        "id": "C_4czTpXkg_Z",
        "outputId": "dcda7402-c505-466f-809c-10001660f1e2"
      },
      "outputs": [],
      "source": []
    },
    {
      "cell_type": "markdown",
      "metadata": {
        "id": "W_6yA0dqkg_Z"
      },
      "source": [
        "\n",
        "\n",
        "### Given the X pandas Series, show its values\n"
      ]
    },
    {
      "cell_type": "code",
      "execution_count": null,
      "metadata": {
        "colab": {
          "base_uri": "https://localhost:8080/"
        },
        "id": "SHjKzBVYkg_a",
        "outputId": "38022734-ed3b-4219-b012-050b5fdfaad1"
      },
      "outputs": [],
      "source": []
    },
    {
      "cell_type": "markdown",
      "metadata": {
        "id": "FRHJK601kg_a"
      },
      "source": [
        "\n",
        "\n",
        "## 2. Series indexation"
      ]
    },
    {
      "cell_type": "markdown",
      "metadata": {
        "id": "DpJBRV39kg_a"
      },
      "source": [
        "### Assign index names to the given X pandas Series\n"
      ]
    },
    {
      "cell_type": "code",
      "execution_count": null,
      "metadata": {
        "colab": {
          "base_uri": "https://localhost:8080/"
        },
        "id": "LXH7acW3kg_b",
        "outputId": "ff228a8b-1021-4025-ca5f-694bfc6efe8e"
      },
      "outputs": [],
      "source": []
    },
    {
      "cell_type": "markdown",
      "metadata": {
        "id": "fMfDIimmkg_b"
      },
      "source": [
        "\n",
        "\n",
        "### Given the X pandas Series, show its first element\n"
      ]
    },
    {
      "cell_type": "code",
      "execution_count": null,
      "metadata": {
        "colab": {
          "base_uri": "https://localhost:8080/"
        },
        "id": "UkRF0FPvkg_b",
        "outputId": "1a4b77d5-e068-4e13-b95b-cc4c08649ca1"
      },
      "outputs": [],
      "source": []
    },
    {
      "cell_type": "markdown",
      "metadata": {
        "id": "43dHNuErkg_c"
      },
      "source": [
        "\n",
        "\n",
        "### Given the X pandas Series, show its last element\n"
      ]
    },
    {
      "cell_type": "code",
      "execution_count": null,
      "metadata": {
        "colab": {
          "base_uri": "https://localhost:8080/"
        },
        "id": "lBS_-m99kg_c",
        "outputId": "f0faf21f-b7cd-4ca6-e1a5-296d5ca70eb1"
      },
      "outputs": [],
      "source": []
    },
    {
      "cell_type": "markdown",
      "metadata": {
        "id": "ke2LMl_Nkg_c"
      },
      "source": [
        "\n",
        "\n",
        "### Given the X pandas Series, show all middle elements\n"
      ]
    },
    {
      "cell_type": "code",
      "execution_count": null,
      "metadata": {
        "colab": {
          "base_uri": "https://localhost:8080/"
        },
        "id": "xxNGqQDNkg_c",
        "outputId": "61a7b97b-9285-441e-8b4c-bffaf30f4e28"
      },
      "outputs": [],
      "source": []
    },
    {
      "cell_type": "markdown",
      "metadata": {
        "id": "3AFaeyEWkg_d"
      },
      "source": [
        "\n",
        "\n",
        "### Given the X pandas Series, show the elements in reverse position\n"
      ]
    },
    {
      "cell_type": "code",
      "execution_count": null,
      "metadata": {
        "colab": {
          "base_uri": "https://localhost:8080/"
        },
        "id": "TW0qCPv8kg_d",
        "outputId": "3b47d1c6-1220-450c-d93e-b28353f43175"
      },
      "outputs": [],
      "source": []
    },
    {
      "cell_type": "markdown",
      "metadata": {
        "id": "V7nPDpIAkg_d"
      },
      "source": [
        "\n",
        "\n",
        "### Given the X pandas Series, show the first and last elements\n"
      ]
    },
    {
      "cell_type": "code",
      "execution_count": null,
      "metadata": {
        "colab": {
          "base_uri": "https://localhost:8080/"
        },
        "id": "NSuB2o8Fkg_e",
        "outputId": "7febdb69-b984-4b5f-f722-43829b65dde8"
      },
      "outputs": [],
      "source": []
    },
    {
      "cell_type": "markdown",
      "metadata": {
        "id": "6fuC-DZ_kg_e"
      },
      "source": [
        "\n",
        "\n",
        "## 3. Series manipulation"
      ]
    },
    {
      "cell_type": "markdown",
      "metadata": {
        "id": "wyt3wHotkg_e"
      },
      "source": [
        "### Convert the given integer pandas Series to float\n"
      ]
    },
    {
      "cell_type": "code",
      "execution_count": null,
      "metadata": {
        "colab": {
          "base_uri": "https://localhost:8080/"
        },
        "id": "-ygBtVw6kg_e",
        "outputId": "9a76de8d-d3ab-442d-900b-554356f15395"
      },
      "outputs": [],
      "source": []
    },
    {
      "cell_type": "markdown",
      "metadata": {
        "id": "AzV4SqCdkg_f"
      },
      "source": [
        "\n",
        "\n",
        "### Reverse the given pandas Series (first element becomes last)"
      ]
    },
    {
      "cell_type": "code",
      "execution_count": null,
      "metadata": {
        "id": "GJ8eeQBukg_f"
      },
      "outputs": [],
      "source": []
    },
    {
      "cell_type": "markdown",
      "metadata": {
        "id": "52IUL9Mrkg_f"
      },
      "source": [
        "\n",
        "\n",
        "### Order (sort) the given pandas Series\n"
      ]
    },
    {
      "cell_type": "code",
      "execution_count": null,
      "metadata": {
        "colab": {
          "base_uri": "https://localhost:8080/"
        },
        "id": "IOi6S-YLkg_f",
        "outputId": "6c9a3cd1-5afb-49d5-c06f-a99181f6256a"
      },
      "outputs": [],
      "source": []
    },
    {
      "cell_type": "markdown",
      "metadata": {
        "id": "vJRsoJuzkg_g"
      },
      "source": [
        "\n",
        "\n",
        "### Given the X pandas Series, set the fifth element equal to 10\n"
      ]
    },
    {
      "cell_type": "code",
      "execution_count": null,
      "metadata": {
        "colab": {
          "base_uri": "https://localhost:8080/"
        },
        "id": "pyoFTSN5kg_g",
        "outputId": "a8f88843-f580-4184-a855-0c0a0dffb571"
      },
      "outputs": [],
      "source": []
    },
    {
      "cell_type": "markdown",
      "metadata": {
        "id": "c7NnI4WGkg_g"
      },
      "source": [
        "\n",
        "\n",
        "### Given the X pandas Series, change all the middle elements to 0\n"
      ]
    },
    {
      "cell_type": "code",
      "execution_count": null,
      "metadata": {
        "colab": {
          "base_uri": "https://localhost:8080/"
        },
        "id": "PsOT1nLzkg_g",
        "outputId": "60674813-f894-43d9-fd66-01d0208fada0"
      },
      "outputs": [],
      "source": []
    },
    {
      "cell_type": "markdown",
      "metadata": {
        "id": "QPDIl64akg_h"
      },
      "source": [
        "\n",
        "\n",
        "### Given the X pandas Series, add 5 to every element\n"
      ]
    },
    {
      "cell_type": "code",
      "execution_count": null,
      "metadata": {
        "colab": {
          "base_uri": "https://localhost:8080/"
        },
        "id": "eBdMpUd1kg_h",
        "outputId": "8bd4c795-8e70-4404-cd97-e79ebc75c0ea"
      },
      "outputs": [],
      "source": []
    },
    {
      "cell_type": "markdown",
      "metadata": {
        "id": "pnepp1FLkg_h"
      },
      "source": [
        "\n",
        "\n",
        "## 4. Series boolean arrays (also called masks)"
      ]
    },
    {
      "cell_type": "markdown",
      "metadata": {
        "id": "3KDYGRxDkg_h"
      },
      "source": [
        "### Given the X pandas Series, make a mask showing negative elements\n"
      ]
    },
    {
      "cell_type": "code",
      "execution_count": null,
      "metadata": {
        "colab": {
          "base_uri": "https://localhost:8080/"
        },
        "id": "mDVHhAlWkg_i",
        "outputId": "c9703bf1-3fdc-43a6-87b2-b75ae2a8f413"
      },
      "outputs": [],
      "source": []
    },
    {
      "cell_type": "markdown",
      "metadata": {
        "id": "SHtH4GRMkg_i"
      },
      "source": [
        "\n",
        "\n",
        "### Given the X pandas Series, get the negative elements\n"
      ]
    },
    {
      "cell_type": "code",
      "execution_count": null,
      "metadata": {
        "colab": {
          "base_uri": "https://localhost:8080/"
        },
        "id": "AuTZ2o0Gkg_i",
        "outputId": "49bdb741-b670-4c10-d9e2-b6603a520e26"
      },
      "outputs": [],
      "source": []
    },
    {
      "cell_type": "markdown",
      "metadata": {
        "id": "7Kg3rmuMkg_i"
      },
      "source": [
        "\n",
        "\n",
        "### Given the X pandas Series, get numbers higher than 5\n"
      ]
    },
    {
      "cell_type": "code",
      "execution_count": null,
      "metadata": {
        "id": "5smOR6kTkg_i"
      },
      "outputs": [],
      "source": []
    },
    {
      "cell_type": "markdown",
      "metadata": {
        "id": "CSxi0w0Ykg_j"
      },
      "source": [
        "\n",
        "\n",
        "### Given the X pandas Series, get numbers higher than the elements mean"
      ]
    },
    {
      "cell_type": "code",
      "execution_count": null,
      "metadata": {
        "colab": {
          "base_uri": "https://localhost:8080/"
        },
        "id": "Pfv6AF-jkg_j",
        "outputId": "282d6a49-3b3d-4f91-f344-6f6deeb67d54"
      },
      "outputs": [],
      "source": []
    },
    {
      "cell_type": "markdown",
      "metadata": {
        "id": "kLsPXR0Skg_j"
      },
      "source": [
        "\n",
        "\n",
        "### Given the X pandas Series, get numbers equal to 2 or 10\n"
      ]
    },
    {
      "cell_type": "code",
      "execution_count": null,
      "metadata": {
        "colab": {
          "base_uri": "https://localhost:8080/"
        },
        "id": "njiBGWz8kg_k",
        "outputId": "86efb11d-6511-450d-bf16-6104f2c6bf3a"
      },
      "outputs": [],
      "source": []
    },
    {
      "cell_type": "markdown",
      "metadata": {
        "id": "1LpxGpJLkg_k"
      },
      "source": [
        "\n",
        "\n",
        "## 5. Logic functions"
      ]
    },
    {
      "cell_type": "markdown",
      "metadata": {
        "id": "YsocSUpykg_k"
      },
      "source": [
        "### Given the X pandas Series, return True if none of its elements is zero"
      ]
    },
    {
      "cell_type": "code",
      "execution_count": null,
      "metadata": {
        "colab": {
          "base_uri": "https://localhost:8080/"
        },
        "id": "JYLRESUwkg_k",
        "outputId": "088dc9e5-5036-46e5-dd1e-a2b3e0f2fe89"
      },
      "outputs": [],
      "source": []
    },
    {
      "cell_type": "markdown",
      "metadata": {
        "id": "TvS-P_Yhkg_l"
      },
      "source": [
        "\n",
        "\n",
        "### Given the X pandas Series, return True if any of its elements is zero\n"
      ]
    },
    {
      "cell_type": "code",
      "execution_count": null,
      "metadata": {
        "colab": {
          "base_uri": "https://localhost:8080/"
        },
        "id": "vks2VWd5kg_l",
        "outputId": "f936a34f-337c-4edc-aaee-2d5dd21a17e5"
      },
      "outputs": [],
      "source": []
    },
    {
      "cell_type": "markdown",
      "metadata": {
        "id": "YbnVt975kg_l"
      },
      "source": [
        "\n",
        "\n",
        "## 6. Summary statistics"
      ]
    },
    {
      "cell_type": "markdown",
      "metadata": {
        "id": "pdGeq7s6kg_m"
      },
      "source": [
        "### Given the X pandas Series, show the sum of its elements\n"
      ]
    },
    {
      "cell_type": "code",
      "execution_count": null,
      "metadata": {
        "colab": {
          "base_uri": "https://localhost:8080/"
        },
        "id": "TXYOPKbekg_m",
        "outputId": "7544afbd-93ad-4516-a800-2176651d3a4d"
      },
      "outputs": [],
      "source": []
    },
    {
      "cell_type": "markdown",
      "metadata": {
        "id": "LfQLlFaXkg_n"
      },
      "source": [
        "\n",
        "\n",
        "### Given the X pandas Series, show the mean value of its elements"
      ]
    },
    {
      "cell_type": "code",
      "execution_count": null,
      "metadata": {
        "colab": {
          "base_uri": "https://localhost:8080/"
        },
        "id": "iOi-4wojkg_n",
        "outputId": "ae63bbbc-ce82-4f3c-f677-546815e726f8"
      },
      "outputs": [],
      "source": []
    },
    {
      "cell_type": "markdown",
      "metadata": {
        "id": "TwCA2-JKkg_o"
      },
      "source": [
        "\n",
        "\n",
        "### Given the X pandas Series, show the max value of its elements"
      ]
    },
    {
      "cell_type": "code",
      "execution_count": null,
      "metadata": {
        "colab": {
          "base_uri": "https://localhost:8080/"
        },
        "id": "WFgv-JfAkg_o",
        "outputId": "7d2055e7-6e40-442f-a2cc-6835c27680c9"
      },
      "outputs": [],
      "source": []
    }
  ],
  "metadata": {
    "colab": {
      "collapsed_sections": [],
      "provenance": []
    },
    "kernelspec": {
      "display_name": "Python 3",
      "language": "python",
      "name": "python3"
    },
    "language_info": {
      "codemirror_mode": {
        "name": "ipython",
        "version": 3
      },
      "file_extension": ".py",
      "mimetype": "text/x-python",
      "name": "python",
      "nbconvert_exporter": "python",
      "pygments_lexer": "ipython3",
      "version": "3.7.0"
    },
    "toc": {
      "base_numbering": 1,
      "nav_menu": {},
      "number_sections": true,
      "sideBar": true,
      "skip_h1_title": false,
      "title_cell": "Table of Contents",
      "title_sidebar": "Contents",
      "toc_cell": false,
      "toc_position": {},
      "toc_section_display": true,
      "toc_window_display": false
    },
    "varInspector": {
      "cols": {
        "lenName": 16,
        "lenType": 16,
        "lenVar": 40
      },
      "kernels_config": {
        "python": {
          "delete_cmd_postfix": "",
          "delete_cmd_prefix": "del ",
          "library": "var_list.py",
          "varRefreshCmd": "print(var_dic_list())"
        },
        "r": {
          "delete_cmd_postfix": ") ",
          "delete_cmd_prefix": "rm(",
          "library": "var_list.r",
          "varRefreshCmd": "cat(var_dic_list()) "
        }
      },
      "types_to_exclude": [
        "module",
        "function",
        "builtin_function_or_method",
        "instance",
        "_Feature"
      ],
      "window_display": false
    }
  },
  "nbformat": 4,
  "nbformat_minor": 0
}
